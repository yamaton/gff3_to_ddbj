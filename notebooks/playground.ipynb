{
 "cells": [
  {
   "cell_type": "markdown",
   "id": "3a9de80d",
   "metadata": {},
   "source": [
    "## Playground"
   ]
  },
  {
   "cell_type": "code",
   "execution_count": 1,
   "id": "9d0aa51d",
   "metadata": {},
   "outputs": [],
   "source": [
    "# https://biopython.org/wiki/GFF_Parsing\n",
    "\n",
    "from typing import List, Dict, Iterable, Tuple\n",
    "import pprint\n",
    "import itertools as it\n",
    "import collections\n",
    "\n",
    "import Bio\n",
    "from Bio.SeqFeature import SeqFeature, ExactPosition, BeforePosition, AfterPosition\n",
    "from Bio.SeqFeature import FeatureLocation, CompoundLocation\n",
    "from BCBio.GFF import GFFExaminer\n",
    "from BCBio import GFF\n",
    "\n",
    "# in_file = \"../samples/prokka.gff3\"\n",
    "# in_file = \"../samples/augustus.gff3\"\n",
    "in_file = \"../samples/maker.gff3\"\n"
   ]
  },
  {
   "cell_type": "code",
   "execution_count": 2,
   "id": "6aa26c59",
   "metadata": {},
   "outputs": [
    {
     "name": "stdout",
     "output_type": "stream",
     "text": [
      "[SeqRecord(seq=UnknownSeq(1274862, character='?'), id='4', name='<unknown name>', description='<unknown description>', dbxrefs=[])]\n"
     ]
    }
   ],
   "source": [
    "recs = list(GFF.parse(in_file))\n",
    "pprint.pp(recs)"
   ]
  },
  {
   "cell_type": "code",
   "execution_count": 3,
   "id": "77198568",
   "metadata": {},
   "outputs": [
    {
     "name": "stdout",
     "output_type": "stream",
     "text": [
      "SeqRecord(seq=UnknownSeq(1274862, character='?'), id='4', name='<unknown name>', description='<unknown description>', dbxrefs=[])\n"
     ]
    }
   ],
   "source": [
    "entry = recs[0]\n",
    "pprint.pp(entry)"
   ]
  },
  {
   "cell_type": "code",
   "execution_count": 4,
   "id": "7650cb18",
   "metadata": {},
   "outputs": [
    {
     "data": {
      "text/plain": [
       "SeqFeature(FeatureLocation(ExactPosition(53460), ExactPosition(64200), strand=-1), type='gene', id='maker-4-est_gff_Cufflinks-gene-0.0')"
      ]
     },
     "execution_count": 4,
     "metadata": {},
     "output_type": "execute_result"
    }
   ],
   "source": [
    "f = entry.features[0]\n",
    "f"
   ]
  },
  {
   "cell_type": "code",
   "execution_count": 5,
   "id": "c8ba79ec",
   "metadata": {},
   "outputs": [
    {
     "data": {
      "text/plain": [
       "{'ID': ['maker-4-est_gff_Cufflinks-gene-0.0'],\n",
       " 'Name': ['maker-4-est_gff_Cufflinks-gene-0.0'],\n",
       " 'score': ['7.864828'],\n",
       " 'source': ['maker']}"
      ]
     },
     "execution_count": 5,
     "metadata": {},
     "output_type": "execute_result"
    }
   ],
   "source": [
    "f.qualifiers"
   ]
  },
  {
   "cell_type": "markdown",
   "id": "23752b49",
   "metadata": {},
   "source": [
    "## Formatting `SeqRecord` as DDBJ annotation table"
   ]
  },
  {
   "cell_type": "code",
   "execution_count": 6,
   "id": "7368ca76",
   "metadata": {},
   "outputs": [
    {
     "data": {
      "text/plain": [
       "1"
      ]
     },
     "execution_count": 6,
     "metadata": {},
     "output_type": "execute_result"
    }
   ],
   "source": [
    "len(recs)"
   ]
  },
  {
   "cell_type": "code",
   "execution_count": 7,
   "id": "0e262f57",
   "metadata": {},
   "outputs": [
    {
     "data": {
      "text/plain": [
       "Counter({'gene': 69})"
      ]
     },
     "execution_count": 7,
     "metadata": {},
     "output_type": "execute_result"
    }
   ],
   "source": [
    "collections.Counter(f.type for f in recs[0].features) "
   ]
  },
  {
   "cell_type": "code",
   "execution_count": 8,
   "id": "39921339",
   "metadata": {},
   "outputs": [
    {
     "data": {
      "text/plain": [
       "Counter({'mRNA': 1})"
      ]
     },
     "execution_count": 8,
     "metadata": {},
     "output_type": "execute_result"
    }
   ],
   "source": [
    "a_gene = recs[0].features[0]\n",
    "collections.Counter(f.type for f in a_gene.sub_features)"
   ]
  },
  {
   "cell_type": "code",
   "execution_count": 9,
   "id": "a538f3d9",
   "metadata": {},
   "outputs": [
    {
     "data": {
      "text/plain": [
       "Counter({'exon': 5, 'five_prime_UTR': 1, 'CDS': 5, 'three_prime_UTR': 1})"
      ]
     },
     "execution_count": 9,
     "metadata": {},
     "output_type": "execute_result"
    }
   ],
   "source": [
    "a_transcript = a_gene.sub_features[0]\n",
    "collections.Counter(f.type for f in a_transcript.sub_features)"
   ]
  },
  {
   "cell_type": "code",
   "execution_count": 10,
   "id": "4a028f41",
   "metadata": {},
   "outputs": [
    {
     "data": {
      "text/plain": [
       "[SeqFeature(FeatureLocation(ExactPosition(63539), ExactPosition(64200), strand=-1), type='exon', id='maker-4-est_gff_Cufflinks-gene-0.0-mRNA-1:exon:4'),\n",
       " SeqFeature(FeatureLocation(ExactPosition(57141), ExactPosition(61911), strand=-1), type='exon', id='maker-4-est_gff_Cufflinks-gene-0.0-mRNA-1:exon:3'),\n",
       " SeqFeature(FeatureLocation(ExactPosition(56499), ExactPosition(57083), strand=-1), type='exon', id='maker-4-est_gff_Cufflinks-gene-0.0-mRNA-1:exon:2'),\n",
       " SeqFeature(FeatureLocation(ExactPosition(53816), ExactPosition(53999), strand=-1), type='exon', id='maker-4-est_gff_Cufflinks-gene-0.0-mRNA-1:exon:1'),\n",
       " SeqFeature(FeatureLocation(ExactPosition(53460), ExactPosition(53751), strand=-1), type='exon', id='maker-4-est_gff_Cufflinks-gene-0.0-mRNA-1:exon:0'),\n",
       " SeqFeature(FeatureLocation(ExactPosition(64050), ExactPosition(64200), strand=-1), type='five_prime_UTR', id='maker-4-est_gff_Cufflinks-gene-0.0-mRNA-1:five_prime_utr'),\n",
       " SeqFeature(FeatureLocation(ExactPosition(63539), ExactPosition(64050), strand=-1), type='CDS', id='maker-4-est_gff_Cufflinks-gene-0.0-mRNA-1:cds'),\n",
       " SeqFeature(FeatureLocation(ExactPosition(57141), ExactPosition(61911), strand=-1), type='CDS', id='maker-4-est_gff_Cufflinks-gene-0.0-mRNA-1:cds'),\n",
       " SeqFeature(FeatureLocation(ExactPosition(56499), ExactPosition(57083), strand=-1), type='CDS', id='maker-4-est_gff_Cufflinks-gene-0.0-mRNA-1:cds'),\n",
       " SeqFeature(FeatureLocation(ExactPosition(53816), ExactPosition(53999), strand=-1), type='CDS', id='maker-4-est_gff_Cufflinks-gene-0.0-mRNA-1:cds'),\n",
       " SeqFeature(FeatureLocation(ExactPosition(53643), ExactPosition(53751), strand=-1), type='CDS', id='maker-4-est_gff_Cufflinks-gene-0.0-mRNA-1:cds'),\n",
       " SeqFeature(FeatureLocation(ExactPosition(53460), ExactPosition(53643), strand=-1), type='three_prime_UTR', id='maker-4-est_gff_Cufflinks-gene-0.0-mRNA-1:three_prime_utr')]"
      ]
     },
     "execution_count": 10,
     "metadata": {},
     "output_type": "execute_result"
    }
   ],
   "source": [
    "a_transcript.sub_features"
   ]
  },
  {
   "cell_type": "code",
   "execution_count": 11,
   "id": "3a0f06db",
   "metadata": {},
   "outputs": [
    {
     "data": {
      "text/plain": [
       "SeqFeature(CompoundLocation([FeatureLocation(ExactPosition(63539), ExactPosition(64050), strand=-1), FeatureLocation(ExactPosition(57141), ExactPosition(61911), strand=-1), FeatureLocation(ExactPosition(56499), ExactPosition(57083), strand=-1), FeatureLocation(ExactPosition(53816), ExactPosition(53999), strand=-1), FeatureLocation(ExactPosition(53643), ExactPosition(53751), strand=-1)], 'join'), type='CDS', location_operator='join')"
      ]
     },
     "execution_count": 11,
     "metadata": {},
     "output_type": "execute_result"
    }
   ],
   "source": [
    "target_type = \"CDS\"\n",
    "target_features = [f for f in recs[0].features[0].sub_features[0].sub_features if f.type == target_type]\n",
    "locs = [f.location for f in target_features]\n",
    "compound_loc = CompoundLocation(locs)\n",
    "feature_packed = SeqFeature(compound_loc, target_type)\n",
    "feature_packed"
   ]
  },
  {
   "cell_type": "code",
   "execution_count": 12,
   "id": "142a952e",
   "metadata": {},
   "outputs": [
    {
     "name": "stdout",
     "output_type": "stream",
     "text": [
      "join{[63539:64050](-), [57141:61911](-), [56499:57083](-), [53816:53999](-), [53643:53751](-)}\n"
     ]
    }
   ],
   "source": [
    "print(compound_loc)"
   ]
  },
  {
   "cell_type": "code",
   "execution_count": 13,
   "id": "7f730a74",
   "metadata": {},
   "outputs": [],
   "source": [
    "start_pos = AfterPosition(5)\n",
    "end_pos = BeforePosition(10)\n",
    "my_location = FeatureLocation(start_pos, end_pos)"
   ]
  },
  {
   "cell_type": "code",
   "execution_count": 14,
   "id": "7c5402fc",
   "metadata": {},
   "outputs": [
    {
     "data": {
      "text/plain": [
       "'>5'"
      ]
     },
     "execution_count": 14,
     "metadata": {},
     "output_type": "execute_result"
    }
   ],
   "source": [
    "str(my_location.start)"
   ]
  },
  {
   "cell_type": "code",
   "execution_count": 15,
   "id": "72deaa2a",
   "metadata": {
    "scrolled": true
   },
   "outputs": [
    {
     "data": {
      "text/plain": [
       "{'ID': ['maker-4-est_gff_Cufflinks-gene-0.0-mRNA-1:cds'],\n",
       " 'Parent': ['maker-4-est_gff_Cufflinks-gene-0.0-mRNA-1'],\n",
       " 'source': ['maker'],\n",
       " 'phase': ['2']}"
      ]
     },
     "execution_count": 15,
     "metadata": {},
     "output_type": "execute_result"
    }
   ],
   "source": [
    "target_features[2].qualifiers"
   ]
  },
  {
   "cell_type": "code",
   "execution_count": 16,
   "id": "aa2c6337",
   "metadata": {},
   "outputs": [],
   "source": [
    "x = compound_loc.parts[0]"
   ]
  },
  {
   "cell_type": "code",
   "execution_count": 17,
   "id": "d56bc624",
   "metadata": {},
   "outputs": [
    {
     "data": {
      "text/plain": [
       "Bio.SeqFeature.ExactPosition"
      ]
     },
     "execution_count": 17,
     "metadata": {},
     "output_type": "execute_result"
    }
   ],
   "source": [
    "type(x.start)"
   ]
  },
  {
   "cell_type": "code",
   "execution_count": 18,
   "id": "836f2d79",
   "metadata": {},
   "outputs": [
    {
     "data": {
      "text/plain": [
       "[FeatureLocation(ExactPosition(63539), ExactPosition(64050), strand=-1),\n",
       " FeatureLocation(ExactPosition(57141), ExactPosition(61911), strand=-1),\n",
       " FeatureLocation(ExactPosition(56499), ExactPosition(57083), strand=-1),\n",
       " FeatureLocation(ExactPosition(53816), ExactPosition(53999), strand=-1),\n",
       " FeatureLocation(ExactPosition(53643), ExactPosition(53751), strand=-1)]"
      ]
     },
     "execution_count": 18,
     "metadata": {},
     "output_type": "execute_result"
    }
   ],
   "source": [
    "compound_loc.parts"
   ]
  },
  {
   "cell_type": "code",
   "execution_count": 19,
   "id": "571bedd9",
   "metadata": {},
   "outputs": [
    {
     "data": {
      "text/plain": [
       "SeqRecord(seq=UnknownSeq(1274862, character='?'), id='4', name='<unknown name>', description='<unknown description>', dbxrefs=[])"
      ]
     },
     "execution_count": 19,
     "metadata": {},
     "output_type": "execute_result"
    }
   ],
   "source": [
    "entry"
   ]
  },
  {
   "cell_type": "markdown",
   "id": "a4c509a7",
   "metadata": {},
   "source": [
    "## Testing translators in `src`"
   ]
  },
  {
   "cell_type": "code",
   "execution_count": 20,
   "id": "74d2f0c2",
   "metadata": {},
   "outputs": [],
   "source": [
    "import json\n",
    "import pathlib\n",
    "import sys\n",
    "\n",
    "pwd = pathlib.Path.cwd().parent\n",
    "sys.path.append(str(pwd))\n",
    "\n",
    "import src.translators as translators"
   ]
  },
  {
   "cell_type": "code",
   "execution_count": 21,
   "id": "4c1c6854",
   "metadata": {},
   "outputs": [
    {
     "data": {
      "text/plain": [
       "Counter({'exon': 5, 'five_prime_UTR': 1, 'CDS': 5, 'three_prime_UTR': 1})"
      ]
     },
     "execution_count": 21,
     "metadata": {},
     "output_type": "execute_result"
    }
   ],
   "source": [
    "collections.Counter(f.type for f in entry.features[0].sub_features[0].sub_features)"
   ]
  },
  {
   "cell_type": "code",
   "execution_count": 22,
   "id": "d2be0c3c",
   "metadata": {},
   "outputs": [],
   "source": [
    "paths = [\"../src/translate_qualifiers.yaml\"]\n",
    "qualifier_converter = translators.TranslateQualifiers(paths)\n",
    "\n",
    "paths = [\"../src/translate_features.yaml\"]\n",
    "paths = [pathlib.Path(p).absolute() for p in paths]\n",
    "feature_converter = translators.TranslateFeatures(paths)\n",
    "\n",
    "entry = qualifier_converter.run(entry)\n",
    "entry = feature_converter.run(entry)"
   ]
  },
  {
   "cell_type": "code",
   "execution_count": 23,
   "id": "51b6015e",
   "metadata": {},
   "outputs": [
    {
     "data": {
      "text/plain": [
       "{'note': ['ID:maker-4-est_gff_Cufflinks-gene-0.0-mRNA-1:cds', 'source:maker'],\n",
       " 'Parent': ['maker-4-est_gff_Cufflinks-gene-0.0-mRNA-1'],\n",
       " 'codon_start': ['0']}"
      ]
     },
     "execution_count": 23,
     "metadata": {},
     "output_type": "execute_result"
    }
   ],
   "source": [
    "cds = [f for f in entry.features[0].sub_features[0].sub_features if f.type == \"CDS\"]\n",
    "cds[0].qualifiers"
   ]
  },
  {
   "cell_type": "code",
   "execution_count": 24,
   "id": "d20f08a9",
   "metadata": {},
   "outputs": [
    {
     "data": {
      "text/plain": [
       "Counter({'exon': 5, \"5'UTR\": 1, 'CDS': 5, \"3'UTR\": 1})"
      ]
     },
     "execution_count": 24,
     "metadata": {},
     "output_type": "execute_result"
    }
   ],
   "source": [
    "collections.Counter(f.type for f in entry.features[0].sub_features[0].sub_features)"
   ]
  },
  {
   "cell_type": "markdown",
   "id": "27dac6cc",
   "metadata": {},
   "source": [
    "## DDBJ formatting"
   ]
  },
  {
   "cell_type": "code",
   "execution_count": 25,
   "id": "b7c81e24",
   "metadata": {},
   "outputs": [],
   "source": [
    "import pathlib\n",
    "import sys\n",
    "\n",
    "pwd = pathlib.Path.cwd().parent\n",
    "sys.path.append(str(pwd))\n",
    "\n",
    "import src.formatter\n",
    "tbl = src.formatter.record_to_ddbj_table(entry)\n",
    "s = src.formatter.table_to_tsv(tbl)\n",
    "\n",
    "with open(\"ddbj_table.txt\", \"w\") as f:\n",
    "    print(s, file=f)"
   ]
  },
  {
   "cell_type": "code",
   "execution_count": 26,
   "id": "ec854292",
   "metadata": {},
   "outputs": [
    {
     "name": "stdout",
     "output_type": "stream",
     "text": [
      "4\tgene\tcomplement(53460..64200)\tnote\tID:maker-4-est_gff_Cufflinks-gene-0.0\r\n",
      "\t\t\tnote\tsource:maker\r\n",
      "\tmRNA\tcomplement(53460..64200)\tnote\tID:maker-4-est_gff_Cufflinks-gene-0.0-mRNA-1\r\n",
      "\t\t\tnote\tsource:maker\r\n",
      "\texon\tcomplement(63539..64200)\tnote\tID:maker-4-est_gff_Cufflinks-gene-0.0-mRNA-1:exon:4\r\n",
      "\t\t\tnote\tsource:maker\r\n",
      "\t\t\tParent\tmaker-4-est_gff_Cufflinks-gene-0.0-mRNA-1\r\n",
      "\texon\tcomplement(57141..61911)\tnote\tID:maker-4-est_gff_Cufflinks-gene-0.0-mRNA-1:exon:3\r\n",
      "\t\t\tnote\tsource:maker\r\n",
      "\t\t\tParent\tmaker-4-est_gff_Cufflinks-gene-0.0-mRNA-1\r\n",
      "\texon\tcomplement(56499..57083)\tnote\tID:maker-4-est_gff_Cufflinks-gene-0.0-mRNA-1:exon:2\r\n",
      "\t\t\tnote\tsource:maker\r\n",
      "\t\t\tParent\tmaker-4-est_gff_Cufflinks-gene-0.0-mRNA-1\r\n",
      "\texon\tcomplement(53816..53999)\tnote\tID:maker-4-est_gff_Cufflinks-gene-0.0-mRNA-1:exon:1\r\n",
      "\t\t\tnote\tsource:maker\r\n",
      "\t\t\tParent\tmaker-4-est_gff_Cufflinks-gene-0.0-mRNA-1\r\n",
      "\texon\tcomplement(53460..53751)\tnote\tID:maker-4-est_gff_Cufflinks-gene-0.0-mRNA-1:exon:0\r\n",
      "\t\t\tnote\tsource:maker\r\n",
      "\t\t\tParent\tmaker-4-est_gff_Cufflinks-gene-0.0-mRNA-1\r\n",
      "\t5'UTR\tcomplement(64050..64200)\tnote\tID:maker-4-est_gff_Cufflinks-gene-0.0-mRNA-1:five_prime_utr\r\n",
      "\t\t\tnote\tsource:maker\r\n",
      "\t\t\tParent\tmaker-4-est_gff_Cufflinks-gene-0.0-mRNA-1\r\n",
      "\tCDS\tcomplement(63539..64050)\tnote\tID:maker-4-est_gff_Cufflinks-gene-0.0-mRNA-1:cds\r\n",
      "\t\t\tnote\tsource:maker\r\n",
      "\t\t\tParent\tmaker-4-est_gff_Cufflinks-gene-0.0-mRNA-1\r\n",
      "\t\t\tcodon_start\t0\r\n",
      "\tCDS\tcomplement(57141..61911)\tnote\tID:maker-4-est_gff_Cufflinks-gene-0.0-mRNA-1:cds\r\n",
      "\t\t\tnote\tsource:maker\r\n",
      "\t\t\tParent\tmaker-4-est_gff_Cufflinks-gene-0.0-mRNA-1\r\n",
      "\t\t\tcodon_start\t2\r\n",
      "\tCDS\tcomplement(56499..57083)\tnote\tID:maker-4-est_gff_Cufflinks-gene-0.0-mRNA-1:cds\r\n",
      "\t\t\tnote\tsource:maker\r\n",
      "\t\t\tParent\tmaker-4-est_gff_Cufflinks-gene-0.0-mRNA-1\r\n",
      "\t\t\tcodon_start\t2\r\n"
     ]
    }
   ],
   "source": [
    "!head -34 \"./ddbj_table.txt\""
   ]
  },
  {
   "cell_type": "code",
   "execution_count": 27,
   "id": "bac30f12",
   "metadata": {},
   "outputs": [
    {
     "data": {
      "text/plain": [
       "[SeqFeature(FeatureLocation(ExactPosition(63539), ExactPosition(64200), strand=-1), type='exon', id='maker-4-est_gff_Cufflinks-gene-0.0-mRNA-1:exon:4'),\n",
       " SeqFeature(FeatureLocation(ExactPosition(57141), ExactPosition(61911), strand=-1), type='exon', id='maker-4-est_gff_Cufflinks-gene-0.0-mRNA-1:exon:3'),\n",
       " SeqFeature(FeatureLocation(ExactPosition(56499), ExactPosition(57083), strand=-1), type='exon', id='maker-4-est_gff_Cufflinks-gene-0.0-mRNA-1:exon:2'),\n",
       " SeqFeature(FeatureLocation(ExactPosition(53816), ExactPosition(53999), strand=-1), type='exon', id='maker-4-est_gff_Cufflinks-gene-0.0-mRNA-1:exon:1'),\n",
       " SeqFeature(FeatureLocation(ExactPosition(53460), ExactPosition(53751), strand=-1), type='exon', id='maker-4-est_gff_Cufflinks-gene-0.0-mRNA-1:exon:0'),\n",
       " SeqFeature(FeatureLocation(ExactPosition(64050), ExactPosition(64200), strand=-1), type=\"5'UTR\", id='maker-4-est_gff_Cufflinks-gene-0.0-mRNA-1:five_prime_utr'),\n",
       " SeqFeature(FeatureLocation(ExactPosition(63539), ExactPosition(64050), strand=-1), type='CDS', id='maker-4-est_gff_Cufflinks-gene-0.0-mRNA-1:cds'),\n",
       " SeqFeature(FeatureLocation(ExactPosition(57141), ExactPosition(61911), strand=-1), type='CDS', id='maker-4-est_gff_Cufflinks-gene-0.0-mRNA-1:cds'),\n",
       " SeqFeature(FeatureLocation(ExactPosition(56499), ExactPosition(57083), strand=-1), type='CDS', id='maker-4-est_gff_Cufflinks-gene-0.0-mRNA-1:cds'),\n",
       " SeqFeature(FeatureLocation(ExactPosition(53816), ExactPosition(53999), strand=-1), type='CDS', id='maker-4-est_gff_Cufflinks-gene-0.0-mRNA-1:cds'),\n",
       " SeqFeature(FeatureLocation(ExactPosition(53643), ExactPosition(53751), strand=-1), type='CDS', id='maker-4-est_gff_Cufflinks-gene-0.0-mRNA-1:cds'),\n",
       " SeqFeature(FeatureLocation(ExactPosition(53460), ExactPosition(53643), strand=-1), type=\"3'UTR\", id='maker-4-est_gff_Cufflinks-gene-0.0-mRNA-1:three_prime_utr')]"
      ]
     },
     "execution_count": 27,
     "metadata": {},
     "output_type": "execute_result"
    }
   ],
   "source": [
    "entry.features[0].sub_features[0].sub_features"
   ]
  },
  {
   "cell_type": "markdown",
   "id": "4cbd388b",
   "metadata": {},
   "source": [
    "## `assembly_gap`"
   ]
  },
  {
   "cell_type": "code",
   "execution_count": 28,
   "id": "ad70e262",
   "metadata": {},
   "outputs": [],
   "source": [
    "from Bio.Seq import Seq\n",
    "import Bio.SeqIO\n",
    "from typing import List, Dict, Iterable, Tuple\n",
    "import gzip\n",
    "\n",
    "# https://www.ddbj.nig.ac.jp/news/ja/2021-08-10_3.html\n",
    "fasta_path = \"./fasta_na.BOUE01000001.txt.gz\""
   ]
  },
  {
   "cell_type": "code",
   "execution_count": 29,
   "id": "a04891ec",
   "metadata": {},
   "outputs": [
    {
     "name": "stdout",
     "output_type": "stream",
     "text": [
      "BOUE01000001|BOUE01000001.1\n"
     ]
    }
   ],
   "source": [
    "with gzip.open(fasta_path, 'rt') as f:\n",
    "    seqs = Bio.SeqIO.parse(f, \"fasta\")\n",
    "    for s in seqs:\n",
    "        print(s.id)"
   ]
  },
  {
   "cell_type": "code",
   "execution_count": 31,
   "id": "14ad1849",
   "metadata": {},
   "outputs": [
    {
     "data": {
      "text/plain": [
       "[(848852, 848861),\n",
       " (1037995, 1038004),\n",
       " (1268390, 1268399),\n",
       " (1320750, 1320759),\n",
       " (1326129, 1326138),\n",
       " (1368923, 1368932),\n",
       " (1369648, 1369657),\n",
       " (1407014, 1407023),\n",
       " (1547450, 1547459),\n",
       " (1608547, 1608556),\n",
       " (1845750, 1845759),\n",
       " (2092435, 2092444),\n",
       " (2093497, 2093506),\n",
       " (2222806, 2222815),\n",
       " (2226754, 2226763),\n",
       " (2229737, 2229746),\n",
       " (2337459, 2337468),\n",
       " (2361686, 2361695),\n",
       " (2372429, 2372438),\n",
       " (2373972, 2373981),\n",
       " (2376826, 2378764),\n",
       " (2434780, 2434789),\n",
       " (2446911, 2446920),\n",
       " (2725397, 2725406),\n",
       " (2732641, 2732650),\n",
       " (2823806, 2823815),\n",
       " (2901099, 2901108),\n",
       " (2902164, 2902173),\n",
       " (2905544, 2905553),\n",
       " (2909241, 2909250),\n",
       " (2915487, 2915496),\n",
       " (2917500, 2917509),\n",
       " (3133148, 3133157),\n",
       " (3545811, 3545820),\n",
       " (3618053, 3618062),\n",
       " (3626493, 3626502),\n",
       " (3632244, 3632253),\n",
       " (3636722, 3636731),\n",
       " (3721270, 3721279),\n",
       " (3726246, 3726255),\n",
       " (4021210, 4021219),\n",
       " (4022548, 4022557),\n",
       " (4024195, 4024204),\n",
       " (4052792, 4052801),\n",
       " (4110186, 4110195),\n",
       " (4110492, 4110501),\n",
       " (4114367, 4114376),\n",
       " (4115237, 4115246),\n",
       " (4116979, 4116988),\n",
       " (5550335, 5550344),\n",
       " (5568932, 5568941),\n",
       " (5635128, 5635137),\n",
       " (5650742, 5650751),\n",
       " (5654940, 5654949),\n",
       " (5748979, 5748988),\n",
       " (5993499, 5993508),\n",
       " (6003262, 6003271),\n",
       " (6516826, 6516835),\n",
       " (6519898, 6519907),\n",
       " (6520950, 6520959),\n",
       " (6522601, 6522610),\n",
       " (6524132, 6524141),\n",
       " (6530667, 6530676),\n",
       " (6532198, 6532207),\n",
       " (6555518, 6555527),\n",
       " (6559943, 6559952),\n",
       " (6789622, 6789631),\n",
       " (6838903, 6838912),\n",
       " (6860371, 6860380),\n",
       " (6864889, 6864898),\n",
       " (6869179, 6869188),\n",
       " (6871389, 6871398),\n",
       " (7077664, 7077673),\n",
       " (7088554, 7088563),\n",
       " (7432960, 7432969),\n",
       " (7442184, 7442193),\n",
       " (7457371, 7457380),\n",
       " (7464466, 7464475),\n",
       " (7466681, 7466690),\n",
       " (7501376, 7501385),\n",
       " (7615322, 7615331),\n",
       " (7626067, 7626076),\n",
       " (7653483, 7653492),\n",
       " (7664635, 7664644),\n",
       " (7673690, 7673699),\n",
       " (7675242, 7675251),\n",
       " (7688536, 7688545),\n",
       " (7690722, 7690731),\n",
       " (7713834, 7713843),\n",
       " (7777968, 7777977),\n",
       " (7792080, 7792089),\n",
       " (7792414, 7792423),\n",
       " (7793573, 7793582),\n",
       " (7854463, 7854472),\n",
       " (7857465, 7857474),\n",
       " (7910693, 7910702),\n",
       " (7947596, 7947605),\n",
       " (7959871, 7959880),\n",
       " (7968705, 7968714),\n",
       " (7977702, 7977711),\n",
       " (7981760, 7981769),\n",
       " (8030137, 8030146),\n",
       " (8199345, 8199354),\n",
       " (8208066, 8208075),\n",
       " (8271564, 8271573),\n",
       " (8280355, 8280364),\n",
       " (8492384, 8492393),\n",
       " (8522149, 8522158),\n",
       " (8982014, 8982023),\n",
       " (9021419, 9021428),\n",
       " (9280674, 9280683),\n",
       " (9395861, 9395870),\n",
       " (9526217, 9526226),\n",
       " (9962057, 9962066),\n",
       " (9973017, 9973026),\n",
       " (10214912, 10214921),\n",
       " (10324341, 10324350),\n",
       " (10328639, 10328648),\n",
       " (10334663, 10334672),\n",
       " (10337426, 10337435),\n",
       " (10702789, 10702798),\n",
       " (10705832, 10705841),\n",
       " (10708884, 10708893),\n",
       " (10713253, 10713262),\n",
       " (10843468, 10843477),\n",
       " (11149693, 11149702),\n",
       " (11152580, 11152589),\n",
       " (11381149, 11381158),\n",
       " (11438410, 11438419),\n",
       " (11449361, 11449370),\n",
       " (11466183, 11466192),\n",
       " (11531105, 11531114),\n",
       " (11532518, 11532527),\n",
       " (11559441, 11559450),\n",
       " (11573293, 11573302),\n",
       " (11735101, 11735110),\n",
       " (11952018, 11952027),\n",
       " (12052880, 12052889),\n",
       " (12054247, 12054256),\n",
       " (12055614, 12055623),\n",
       " (12116625, 12116634),\n",
       " (12256211, 12256220),\n",
       " (12373138, 12373147),\n",
       " (12375336, 12375345),\n",
       " (12447226, 12447235),\n",
       " (12449986, 12449995),\n",
       " (12450225, 12450234),\n",
       " (12468191, 12468200),\n",
       " (12475487, 12475496),\n",
       " (12529582, 12529591),\n",
       " (12532624, 12532633),\n",
       " (12538138, 12538147),\n",
       " (12879117, 12879126),\n",
       " (12888462, 12888471),\n",
       " (12889128, 12889137),\n",
       " (12891947, 12891956),\n",
       " (12910807, 12910816),\n",
       " (12911642, 12911651),\n",
       " (12937000, 12937009),\n",
       " (13061714, 13061723),\n",
       " (13066908, 13066917),\n",
       " (13070310, 13070319),\n",
       " (13072420, 13072429),\n",
       " (13284013, 13284022),\n",
       " (13289239, 13289248),\n",
       " (13313903, 13313912),\n",
       " (13320108, 13320117),\n",
       " (13325357, 13325366),\n",
       " (13345133, 13345142),\n",
       " (13348488, 13348497),\n",
       " (13351509, 13351518),\n",
       " (13358046, 13358055),\n",
       " (13358499, 13358508),\n",
       " (13476883, 13476892),\n",
       " (13732677, 13740092),\n",
       " (13986027, 13986036),\n",
       " (13998687, 13998696),\n",
       " (14041796, 14041805),\n",
       " (14047807, 14047816),\n",
       " (14070696, 14070705),\n",
       " (14074394, 14074403),\n",
       " (14075539, 14075548),\n",
       " (14127454, 14127463),\n",
       " (14133243, 14133252),\n",
       " (14135033, 14135042),\n",
       " (14135596, 14135605),\n",
       " (14138966, 14138975),\n",
       " (14140645, 14140654),\n",
       " (14162234, 14162243),\n",
       " (14368596, 14368605),\n",
       " (14409331, 14409340),\n",
       " (14541327, 14541336),\n",
       " (14545619, 14545628),\n",
       " (14557117, 14557126),\n",
       " (14565279, 14565288),\n",
       " (14570040, 14570049),\n",
       " (14571206, 14571215),\n",
       " (14576952, 14576961),\n",
       " (14606946, 14606955),\n",
       " (14741185, 14741194),\n",
       " (14747293, 14747302),\n",
       " (14756369, 14756378),\n",
       " (14760419, 14760428),\n",
       " (14763411, 14763420),\n",
       " (14765292, 14765301),\n",
       " (14786573, 14786582),\n",
       " (14792992, 14793001),\n",
       " (14798902, 14798911),\n",
       " (14824197, 14824206),\n",
       " (14837196, 14837205),\n",
       " (14844146, 14844155),\n",
       " (14846456, 14846465),\n",
       " (14848507, 14848516),\n",
       " (15097589, 15097598),\n",
       " (15112185, 15112194),\n",
       " (15115068, 15115077),\n",
       " (15117812, 15117821),\n",
       " (15123721, 15123730),\n",
       " (15124030, 15124039),\n",
       " (15207465, 15207474),\n",
       " (15380853, 15380862),\n",
       " (15438554, 15438563),\n",
       " (15758971, 15759070),\n",
       " (15804784, 15804793),\n",
       " (15809681, 15809690),\n",
       " (15826620, 15826629),\n",
       " (15830433, 15830442),\n",
       " (15835665, 15835674),\n",
       " (16000711, 16000720),\n",
       " (16002249, 16002258),\n",
       " (16005986, 16005995),\n",
       " (16056696, 16056705),\n",
       " (16141676, 16141685),\n",
       " (16322585, 16322594),\n",
       " (16323488, 16323497),\n",
       " (16346020, 16346029),\n",
       " (16429794, 16429803),\n",
       " (16431216, 16431225),\n",
       " (16434642, 16434651),\n",
       " (16440526, 16440535),\n",
       " (16444632, 16444641),\n",
       " (16449422, 16449431),\n",
       " (16485235, 16485244),\n",
       " (16487943, 16487952),\n",
       " (16550221, 16550230),\n",
       " (16579402, 16579411),\n",
       " (16581792, 16581801),\n",
       " (16689435, 16693861),\n",
       " (16722614, 16722623),\n",
       " (16823495, 16823504),\n",
       " (16913317, 16913326),\n",
       " (17194955, 17194964),\n",
       " (17201454, 17201463),\n",
       " (17210516, 17210525),\n",
       " (17218063, 17218072),\n",
       " (17223043, 17223052),\n",
       " (17242892, 17242901),\n",
       " (17252884, 17252893),\n",
       " (17285902, 17285911),\n",
       " (17372808, 17372817),\n",
       " (17403432, 17403441),\n",
       " (17404289, 17404298),\n",
       " (17525871, 17525880),\n",
       " (17585996, 17586005),\n",
       " (17596766, 17596775),\n",
       " (17657575, 17657584),\n",
       " (17660011, 17660020),\n",
       " (17660498, 17660507),\n",
       " (17661384, 17661393),\n",
       " (17662373, 17662382),\n",
       " (17662804, 17662813),\n",
       " (17663684, 17663693),\n",
       " (17665401, 17665410),\n",
       " (17671414, 17671423),\n",
       " (17697184, 17697193),\n",
       " (17702470, 17702479),\n",
       " (17774072, 17774081),\n",
       " (17784781, 17784790),\n",
       " (17787351, 17787360),\n",
       " (17849136, 17849145),\n",
       " (17912449, 17912458),\n",
       " (18046114, 18046123),\n",
       " (18242751, 18242760),\n",
       " (18414700, 18414709),\n",
       " (18461156, 18461165),\n",
       " (18465915, 18465924),\n",
       " (18468633, 18468642),\n",
       " (18474471, 18474480),\n",
       " (18587848, 18587857),\n",
       " (18618173, 18618182),\n",
       " (18706186, 18706195),\n",
       " (18721362, 18721371),\n",
       " (18724975, 18724984),\n",
       " (18726779, 18726788),\n",
       " (18736257, 18736266),\n",
       " (18739280, 18739289),\n",
       " (18743820, 18743829),\n",
       " (18746819, 18746828),\n",
       " (18957270, 18957279),\n",
       " (18957674, 18957683),\n",
       " (19080272, 19080281),\n",
       " (19085874, 19085883),\n",
       " (19086491, 19086500),\n",
       " (19095154, 19095163),\n",
       " (19098614, 19098623),\n",
       " (19175873, 19175882),\n",
       " (19178736, 19178745),\n",
       " (19181706, 19181715),\n",
       " (19471906, 19471915),\n",
       " (19505553, 19505562),\n",
       " (19581977, 19581986),\n",
       " (19588481, 19588490),\n",
       " (19657163, 19657172),\n",
       " (19660578, 19660587),\n",
       " (19742474, 19742483),\n",
       " (19779255, 19779264),\n",
       " (19783767, 19783776),\n",
       " (19790264, 19790273),\n",
       " (19849564, 19849573),\n",
       " (20057221, 20057230),\n",
       " (20344830, 20344839),\n",
       " (20396598, 20396607),\n",
       " (20398135, 20398144),\n",
       " (20402304, 20402313),\n",
       " (20405382, 20405391),\n",
       " (20405844, 20405853),\n",
       " (20540016, 20540025),\n",
       " (20540537, 20540546),\n",
       " (20542163, 20542172),\n",
       " (20583374, 20583383),\n",
       " (20587809, 20587818),\n",
       " (20588250, 20588259),\n",
       " (20592858, 20592867),\n",
       " (20602469, 20602478),\n",
       " (20604190, 20604199),\n",
       " (20615140, 20615149),\n",
       " (20616812, 20616821),\n",
       " (20617920, 20617929),\n",
       " (20628046, 20628055),\n",
       " (20635741, 20635750),\n",
       " (20638073, 20638082),\n",
       " (20645157, 20645166),\n",
       " (20645710, 20645719),\n",
       " (20646498, 20646507),\n",
       " (20648452, 20648461),\n",
       " (20649170, 20649179),\n",
       " (20653809, 20653818),\n",
       " (20655498, 20655507),\n",
       " (20751006, 20751015),\n",
       " (20754654, 20754663),\n",
       " (20769001, 20769010),\n",
       " (20787156, 20787165),\n",
       " (20788068, 20788077),\n",
       " (20791400, 20791409),\n",
       " (20796541, 20796550),\n",
       " (20799065, 20799074),\n",
       " (20877183, 20877192),\n",
       " (20885556, 20885565),\n",
       " (20891528, 20891537),\n",
       " (20894097, 20894106),\n",
       " (20899933, 20899942),\n",
       " (20975609, 20975618),\n",
       " (20983385, 20983394),\n",
       " (20991460, 20991469),\n",
       " (21063040, 21063049),\n",
       " (21281182, 21281191),\n",
       " (21387207, 21387216),\n",
       " (21416705, 21416714),\n",
       " (21422106, 21422115),\n",
       " (21425784, 21425793),\n",
       " (21818861, 21818870),\n",
       " (21822227, 21822236),\n",
       " (21837987, 21837996),\n",
       " (21848474, 21848483),\n",
       " (21851782, 21851791),\n",
       " (21854674, 21854683),\n",
       " (22041845, 22041854),\n",
       " (22054671, 22054680),\n",
       " (22074886, 22074895),\n",
       " (22166399, 22166408),\n",
       " (22180817, 22180826),\n",
       " (22508830, 22508839),\n",
       " (22528641, 22528650),\n",
       " (22528953, 22528962),\n",
       " (22533360, 22533369),\n",
       " (22571700, 22571709),\n",
       " (22586888, 22586897),\n",
       " (22602828, 22602837),\n",
       " (22607496, 22607505),\n",
       " (22611942, 22611951),\n",
       " (22615889, 22615898),\n",
       " (22688953, 22688962),\n",
       " (22780030, 22780039),\n",
       " (22896425, 22896434),\n",
       " (22898360, 22898369),\n",
       " (22899388, 22899397),\n",
       " (22929678, 22929687),\n",
       " (22931884, 22931893),\n",
       " (22946294, 22946303),\n",
       " (22946722, 22946731),\n",
       " (22956322, 22956331),\n",
       " (23135437, 23135446),\n",
       " (23341079, 23341088),\n",
       " (23344277, 23344286),\n",
       " (23386388, 23386397),\n",
       " (23400182, 23400191),\n",
       " (23504855, 23504864),\n",
       " (23542470, 23542479),\n",
       " (23697306, 23697315),\n",
       " (23714717, 23714726),\n",
       " (23723331, 23723340),\n",
       " (23977353, 23977362),\n",
       " (23983847, 23983856),\n",
       " (23988185, 23988194),\n",
       " (23993165, 23993174),\n",
       " (24005940, 24005949),\n",
       " (24006738, 24006747),\n",
       " (24013270, 24013279),\n",
       " (24020478, 24020487),\n",
       " (24292394, 24292403),\n",
       " (24700281, 24700290),\n",
       " (25004080, 25004089),\n",
       " (25136206, 25136215),\n",
       " (25143683, 25143692),\n",
       " (25147842, 25147851),\n",
       " (25148460, 25148469),\n",
       " (25148784, 25148793),\n",
       " (25149178, 25149187),\n",
       " (25160045, 25160054),\n",
       " (25160900, 25160909),\n",
       " (25747861, 25747870),\n",
       " (25989324, 25989333),\n",
       " (25990943, 25990952),\n",
       " (26165550, 26165559),\n",
       " (26182276, 26182285),\n",
       " (26231352, 26231361),\n",
       " (26233355, 26233364),\n",
       " (26235636, 26235645),\n",
       " (26237489, 26237498),\n",
       " (26237806, 26237815),\n",
       " (26248521, 26248530),\n",
       " (26264206, 26264215),\n",
       " (26278374, 26278383),\n",
       " (26528721, 26528730),\n",
       " (26880449, 26880458),\n",
       " (26884190, 26884199),\n",
       " (26885196, 26885205),\n",
       " (26885547, 26885556)]"
      ]
     },
     "execution_count": 31,
     "metadata": {},
     "output_type": "execute_result"
    }
   ],
   "source": [
    "src.translators.get_assembly_gap(s.seq)"
   ]
  },
  {
   "cell_type": "code",
   "execution_count": 32,
   "id": "72ee7a3f",
   "metadata": {},
   "outputs": [
    {
     "data": {
      "text/plain": [
       "[(5, 7), (15, 15)]"
      ]
     },
     "execution_count": 32,
     "metadata": {},
     "output_type": "execute_result"
    }
   ],
   "source": [
    "s = Seq(\"atatnnngattacanccc\")\n",
    "src.translators.get_assembly_gap(s)"
   ]
  },
  {
   "cell_type": "code",
   "execution_count": null,
   "id": "52fcc1c4",
   "metadata": {},
   "outputs": [],
   "source": []
  },
  {
   "cell_type": "markdown",
   "id": "65b52b57",
   "metadata": {},
   "source": [
    "## Load `COMMON` from YAML"
   ]
  },
  {
   "cell_type": "code",
   "execution_count": 33,
   "id": "e8f9cfc6",
   "metadata": {},
   "outputs": [
    {
     "data": {
      "text/plain": [
       "SeqRecord(seq='', id='COMMON', name='<unknown name>', description='<unknown description>', dbxrefs=[])"
      ]
     },
     "execution_count": 33,
     "metadata": {},
     "output_type": "execute_result"
    }
   ],
   "source": [
    "from typing import Any, Dict, List, Tuple, Iterable, Union\n",
    "from Bio.SeqRecord import SeqRecord\n",
    "from Bio.SeqFeature import SeqFeature\n",
    "import yaml\n",
    "\n",
    "path = \"../samples/common.yaml\"\n",
    "common = src.formatter.load_common(path)\n",
    "common"
   ]
  },
  {
   "cell_type": "code",
   "execution_count": 34,
   "id": "abe7ba92",
   "metadata": {
    "scrolled": true
   },
   "outputs": [
    {
     "name": "stdout",
     "output_type": "stream",
     "text": [
      "COMMON\tSUBMITTER\t\tab_name\tRobertson,G.R.\n",
      "\t\t\tab_name\tMishima,H.\n",
      "\t\t\tcontact\tHanako Mishima\n",
      "\t\t\temail\tmishima@ddbj.nig.ac.jp\n",
      "\t\t\tphone\t81-55-981-6853\n",
      "\t\t\tinstitute\tNational Institute of Genetics\n",
      "\t\t\tcountry\tJapan\n",
      "\t\t\tcity\tMishima\n",
      "\t\t\tstreet\tYata 1111\n",
      "\t\t\tzip\t411-8540\n",
      "\tREFERENCE\t\ttitle\tMouse Genome Sequencing\n",
      "\t\t\tab_name\tRobertson,G.R.\n",
      "\t\t\tab_name\tMishima,H\n",
      "\t\t\tyear\t2017\n",
      "\t\t\tstatus\tUnpublished\n",
      "\tCOMMENT\t\tline\tPlease visit our website URL\n",
      "\t\t\tline\thttp://www.ddbj.nig.ac.jp/\n"
     ]
    }
   ],
   "source": [
    "s = src.formatter.table_to_tsv(src.formatter.record_to_ddbj_table(common))\n",
    "print(s)"
   ]
  },
  {
   "cell_type": "code",
   "execution_count": 35,
   "id": "d2eee26e",
   "metadata": {
    "scrolled": true
   },
   "outputs": [
    {
     "data": {
      "text/plain": [
       "[SeqFeature(None, type='SUBMITTER'),\n",
       " SeqFeature(None, type='REFERENCE'),\n",
       " SeqFeature(None, type='COMMENT')]"
      ]
     },
     "execution_count": 35,
     "metadata": {},
     "output_type": "execute_result"
    }
   ],
   "source": [
    "fs = common.features\n",
    "fs"
   ]
  },
  {
   "cell_type": "code",
   "execution_count": 36,
   "id": "22f7e43f",
   "metadata": {},
   "outputs": [
    {
     "data": {
      "text/plain": [
       "{'line': ['Please visit our website URL', 'http://www.ddbj.nig.ac.jp/']}"
      ]
     },
     "execution_count": 36,
     "metadata": {},
     "output_type": "execute_result"
    }
   ],
   "source": [
    "fs[2].qualifiers"
   ]
  },
  {
   "cell_type": "code",
   "execution_count": null,
   "id": "40d97f69",
   "metadata": {},
   "outputs": [],
   "source": []
  },
  {
   "cell_type": "markdown",
   "id": "65d6fbd6",
   "metadata": {},
   "source": [
    "# Joining features\n",
    "\n",
    "Try joining mRNA and CDS (and more?)"
   ]
  },
  {
   "cell_type": "code",
   "execution_count": 37,
   "id": "66031bb5",
   "metadata": {},
   "outputs": [],
   "source": [
    "import src.translators\n",
    "import src.formatter\n",
    "    \n",
    "entry_updated = src.translators.join_features(entry)\n",
    "tbl = src.formatter.record_to_ddbj_table(entry_updated)\n",
    "s = src.formatter.table_to_tsv(tbl)\n",
    "\n",
    "with open(\"ddbj_table_updated.txt\", \"w\") as f:\n",
    "    print(s, file=f)"
   ]
  },
  {
   "cell_type": "code",
   "execution_count": 38,
   "id": "c73eea65",
   "metadata": {},
   "outputs": [
    {
     "name": "stdout",
     "output_type": "stream",
     "text": [
      "4\tgene\tcomplement(53460..64200)\tnote\tID:maker-4-est_gff_Cufflinks-gene-0.0\r\n",
      "\t\t\tnote\tsource:maker\r\n",
      "\tmRNA\tcomplement(53460..64200)\tnote\tID:maker-4-est_gff_Cufflinks-gene-0.0-mRNA-1\r\n",
      "\t\t\tnote\tsource:maker\r\n",
      "\texon\tcomplement(63539..64200)\tnote\tID:maker-4-est_gff_Cufflinks-gene-0.0-mRNA-1:exon:4\r\n",
      "\t\t\tnote\tsource:maker\r\n",
      "\t\t\tParent\tmaker-4-est_gff_Cufflinks-gene-0.0-mRNA-1\r\n",
      "\texon\tcomplement(57141..61911)\tnote\tID:maker-4-est_gff_Cufflinks-gene-0.0-mRNA-1:exon:3\r\n",
      "\t\t\tnote\tsource:maker\r\n",
      "\t\t\tParent\tmaker-4-est_gff_Cufflinks-gene-0.0-mRNA-1\r\n",
      "\texon\tcomplement(56499..57083)\tnote\tID:maker-4-est_gff_Cufflinks-gene-0.0-mRNA-1:exon:2\r\n",
      "\t\t\tnote\tsource:maker\r\n",
      "\t\t\tParent\tmaker-4-est_gff_Cufflinks-gene-0.0-mRNA-1\r\n",
      "\texon\tcomplement(53816..53999)\tnote\tID:maker-4-est_gff_Cufflinks-gene-0.0-mRNA-1:exon:1\r\n",
      "\t\t\tnote\tsource:maker\r\n",
      "\t\t\tParent\tmaker-4-est_gff_Cufflinks-gene-0.0-mRNA-1\r\n",
      "\texon\tcomplement(53460..53751)\tnote\tID:maker-4-est_gff_Cufflinks-gene-0.0-mRNA-1:exon:0\r\n",
      "\t\t\tnote\tsource:maker\r\n",
      "\t\t\tParent\tmaker-4-est_gff_Cufflinks-gene-0.0-mRNA-1\r\n",
      "\t5'UTR\tcomplement(64050..64200)\tnote\tID:maker-4-est_gff_Cufflinks-gene-0.0-mRNA-1:five_prime_utr\r\n",
      "\t\t\tnote\tsource:maker\r\n",
      "\t\t\tParent\tmaker-4-est_gff_Cufflinks-gene-0.0-mRNA-1\r\n",
      "\tCDS\tcomplement(join(63539..64050,57141..61911,56499..57083,53816..53999,53643..53751))\tnote\tID:maker-4-est_gff_Cufflinks-gene-0.0-mRNA-1:cds\r\n",
      "\t\t\tnote\tsource:maker\r\n",
      "\t\t\tParent\tmaker-4-est_gff_Cufflinks-gene-0.0-mRNA-1\r\n",
      "\t\t\tcodon_start\t0\r\n",
      "\t3'UTR\tcomplement(53460..53643)\tnote\tID:maker-4-est_gff_Cufflinks-gene-0.0-mRNA-1:three_prime_utr\r\n",
      "\t\t\tnote\tsource:maker\r\n",
      "\t\t\tParent\tmaker-4-est_gff_Cufflinks-gene-0.0-mRNA-1\r\n",
      "\t\t\tParent\tmaker-4-est_gff_Cufflinks-gene-0.0\r\n",
      "\texon\tcomplement(63539..64200)\tnote\tID:maker-4-est_gff_Cufflinks-gene-0.0-mRNA-1:exon:4\r\n",
      "\t\t\tnote\tsource:maker\r\n",
      "\t\t\tParent\tmaker-4-est_gff_Cufflinks-gene-0.0-mRNA-1\r\n",
      "\texon\tcomplement(57141..61911)\tnote\tID:maker-4-est_gff_Cufflinks-gene-0.0-mRNA-1:exon:3\r\n",
      "\t\t\tnote\tsource:maker\r\n",
      "\t\t\tParent\tmaker-4-est_gff_Cufflinks-gene-0.0-mRNA-1\r\n",
      "\texon\tcomplement(56499..57083)\tnote\tID:maker-4-est_gff_Cufflinks-gene-0.0-mRNA-1:exon:2\r\n",
      "\t\t\tnote\tsource:maker\r\n",
      "\t\t\tParent\tmaker-4-est_gff_Cufflinks-gene-0.0-mRNA-1\r\n",
      "\texon\tcomplement(53816..53999)\tnote\tID:maker-4-est_gff_Cufflinks-gene-0.0-mRNA-1:exon:1\r\n"
     ]
    }
   ],
   "source": [
    "!head -40 \"./ddbj_table_updated.txt\""
   ]
  },
  {
   "cell_type": "code",
   "execution_count": 39,
   "id": "6ed29892",
   "metadata": {},
   "outputs": [
    {
     "data": {
      "text/plain": [
       "SeqFeature(CompoundLocation([FeatureLocation(ExactPosition(63539), ExactPosition(64050), strand=-1), FeatureLocation(ExactPosition(57141), ExactPosition(61911), strand=-1), FeatureLocation(ExactPosition(56499), ExactPosition(57083), strand=-1), FeatureLocation(ExactPosition(53816), ExactPosition(53999), strand=-1), FeatureLocation(ExactPosition(53643), ExactPosition(53751), strand=-1)], 'join'), type='CDS', location_operator='join')"
      ]
     },
     "execution_count": 39,
     "metadata": {},
     "output_type": "execute_result"
    }
   ],
   "source": [
    "entry_updated.features[0].sub_features[0].sub_features[6]"
   ]
  },
  {
   "cell_type": "code",
   "execution_count": 40,
   "id": "6ee6cf26",
   "metadata": {},
   "outputs": [
    {
     "data": {
      "text/plain": [
       "SeqFeature(FeatureLocation(ExactPosition(53460), ExactPosition(53643), strand=-1), type=\"3'UTR\", id='maker-4-est_gff_Cufflinks-gene-0.0-mRNA-1:three_prime_utr')"
      ]
     },
     "execution_count": 40,
     "metadata": {},
     "output_type": "execute_result"
    }
   ],
   "source": [
    "entry.features[0].sub_features[0].sub_features[7]"
   ]
  },
  {
   "cell_type": "code",
   "execution_count": 41,
   "id": "2cf3edcd",
   "metadata": {},
   "outputs": [
    {
     "data": {
      "text/plain": [
       "{'note': ['ID:maker-4-est_gff_Cufflinks-gene-0.0-mRNA-1:three_prime_utr',\n",
       "  'source:maker'],\n",
       " 'Parent': ['maker-4-est_gff_Cufflinks-gene-0.0-mRNA-1']}"
      ]
     },
     "execution_count": 41,
     "metadata": {},
     "output_type": "execute_result"
    }
   ],
   "source": [
    "entry.features[0].sub_features[0].sub_features[7].qualifiers"
   ]
  },
  {
   "cell_type": "code",
   "execution_count": 42,
   "id": "972f957c",
   "metadata": {},
   "outputs": [
    {
     "data": {
      "text/plain": [
       "{'note': ['ID:maker-4-est_gff_Cufflinks-gene-0.0-mRNA-1:three_prime_utr',\n",
       "  'source:maker'],\n",
       " 'Parent': ['maker-4-est_gff_Cufflinks-gene-0.0-mRNA-1']}"
      ]
     },
     "execution_count": 42,
     "metadata": {},
     "output_type": "execute_result"
    }
   ],
   "source": [
    "entry_updated.features[0].sub_features[0].sub_features[7].qualifiers"
   ]
  },
  {
   "cell_type": "code",
   "execution_count": null,
   "id": "bafcd141",
   "metadata": {},
   "outputs": [],
   "source": []
  }
 ],
 "metadata": {
  "interpreter": {
   "hash": "8ae84184d6c4a978b3a6c683600efb7117b91f13608b1bc2f90c9b0a64e44c55"
  },
  "kernelspec": {
   "display_name": "Python 3 (ipykernel)",
   "language": "python",
   "name": "python3"
  },
  "language_info": {
   "codemirror_mode": {
    "name": "ipython",
    "version": 3
   },
   "file_extension": ".py",
   "mimetype": "text/x-python",
   "name": "python",
   "nbconvert_exporter": "python",
   "pygments_lexer": "ipython3",
   "version": "3.8.10"
  }
 },
 "nbformat": 4,
 "nbformat_minor": 5
}
