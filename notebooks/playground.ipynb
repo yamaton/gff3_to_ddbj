{
 "cells": [
  {
   "cell_type": "markdown",
   "id": "f7e66867",
   "metadata": {},
   "source": [
    "## Playground"
   ]
  },
  {
   "cell_type": "code",
   "execution_count": 133,
   "id": "a7713e5e",
   "metadata": {},
   "outputs": [],
   "source": [
    "# https://biopython.org/wiki/GFF_Parsing\n",
    "\n",
    "from typing import List, Dict, Iterable, Tuple\n",
    "import pprint\n",
    "import itertools as it\n",
    "import collections\n",
    "\n",
    "import Bio\n",
    "from Bio.SeqFeature import SeqFeature, ExactPosition, BeforePosition, AfterPosition\n",
    "from Bio.SeqFeature import FeatureLocation, CompoundLocation\n",
    "from BCBio.GFF import GFFExaminer\n",
    "from BCBio import GFF\n",
    "\n",
    "# in_file = \"../samples/prokka.gff3\"\n",
    "# in_file = \"../samples/augustus.gff3\"\n",
    "in_file = \"../samples/maker.gff3\"\n"
   ]
  },
  {
   "cell_type": "code",
   "execution_count": 134,
   "id": "bb0ce093",
   "metadata": {},
   "outputs": [
    {
     "name": "stdout",
     "output_type": "stream",
     "text": [
      "[SeqRecord(seq=UnknownSeq(1274862, character='?'), id='4', name='<unknown name>', description='<unknown description>', dbxrefs=[])]\n"
     ]
    }
   ],
   "source": [
    "recs = list(GFF.parse(in_file))\n",
    "pprint.pp(recs)"
   ]
  },
  {
   "cell_type": "code",
   "execution_count": 135,
   "id": "ae21fd67",
   "metadata": {},
   "outputs": [
    {
     "name": "stdout",
     "output_type": "stream",
     "text": [
      "SeqRecord(seq=UnknownSeq(1274862, character='?'), id='4', name='<unknown name>', description='<unknown description>', dbxrefs=[])\n"
     ]
    }
   ],
   "source": [
    "entry = recs[0]\n",
    "pprint.pp(entry)"
   ]
  },
  {
   "cell_type": "code",
   "execution_count": 136,
   "id": "9db192cf",
   "metadata": {},
   "outputs": [
    {
     "data": {
      "text/plain": [
       "SeqFeature(FeatureLocation(ExactPosition(53460), ExactPosition(64200), strand=-1), type='gene', id='maker-4-est_gff_Cufflinks-gene-0.0')"
      ]
     },
     "execution_count": 136,
     "metadata": {},
     "output_type": "execute_result"
    }
   ],
   "source": [
    "f = entry.features[0]\n",
    "f"
   ]
  },
  {
   "cell_type": "code",
   "execution_count": 137,
   "id": "8c2f5ab0",
   "metadata": {},
   "outputs": [
    {
     "data": {
      "text/plain": [
       "{'ID': ['maker-4-est_gff_Cufflinks-gene-0.0'],\n",
       " 'Name': ['maker-4-est_gff_Cufflinks-gene-0.0'],\n",
       " 'score': ['7.864828'],\n",
       " 'source': ['maker']}"
      ]
     },
     "execution_count": 137,
     "metadata": {},
     "output_type": "execute_result"
    }
   ],
   "source": [
    "f.qualifiers"
   ]
  },
  {
   "cell_type": "markdown",
   "id": "12b10ee8",
   "metadata": {},
   "source": [
    "## Formatting `SeqRecord` as DDBJ annotation table"
   ]
  },
  {
   "cell_type": "code",
   "execution_count": 138,
   "id": "399be924",
   "metadata": {},
   "outputs": [
    {
     "data": {
      "text/plain": [
       "1"
      ]
     },
     "execution_count": 138,
     "metadata": {},
     "output_type": "execute_result"
    }
   ],
   "source": [
    "len(recs)"
   ]
  },
  {
   "cell_type": "code",
   "execution_count": 139,
   "id": "c96ddb93",
   "metadata": {},
   "outputs": [
    {
     "data": {
      "text/plain": [
       "Counter({'gene': 69})"
      ]
     },
     "execution_count": 139,
     "metadata": {},
     "output_type": "execute_result"
    }
   ],
   "source": [
    "collections.Counter(f.type for f in recs[0].features) "
   ]
  },
  {
   "cell_type": "code",
   "execution_count": 140,
   "id": "3690e6f0",
   "metadata": {},
   "outputs": [
    {
     "data": {
      "text/plain": [
       "Counter({'mRNA': 1})"
      ]
     },
     "execution_count": 140,
     "metadata": {},
     "output_type": "execute_result"
    }
   ],
   "source": [
    "a_gene = recs[0].features[0]\n",
    "collections.Counter(f.type for f in a_gene.sub_features)"
   ]
  },
  {
   "cell_type": "code",
   "execution_count": 141,
   "id": "4da09b11",
   "metadata": {},
   "outputs": [
    {
     "data": {
      "text/plain": [
       "Counter({'exon': 5, 'five_prime_UTR': 1, 'CDS': 5, 'three_prime_UTR': 1})"
      ]
     },
     "execution_count": 141,
     "metadata": {},
     "output_type": "execute_result"
    }
   ],
   "source": [
    "a_transcript = a_gene.sub_features[0]\n",
    "collections.Counter(f.type for f in a_transcript.sub_features)"
   ]
  },
  {
   "cell_type": "code",
   "execution_count": 142,
   "id": "9eaa90e3",
   "metadata": {},
   "outputs": [
    {
     "data": {
      "text/plain": [
       "[SeqFeature(FeatureLocation(ExactPosition(63539), ExactPosition(64200), strand=-1), type='exon', id='maker-4-est_gff_Cufflinks-gene-0.0-mRNA-1:exon:4'),\n",
       " SeqFeature(FeatureLocation(ExactPosition(57141), ExactPosition(61911), strand=-1), type='exon', id='maker-4-est_gff_Cufflinks-gene-0.0-mRNA-1:exon:3'),\n",
       " SeqFeature(FeatureLocation(ExactPosition(56499), ExactPosition(57083), strand=-1), type='exon', id='maker-4-est_gff_Cufflinks-gene-0.0-mRNA-1:exon:2'),\n",
       " SeqFeature(FeatureLocation(ExactPosition(53816), ExactPosition(53999), strand=-1), type='exon', id='maker-4-est_gff_Cufflinks-gene-0.0-mRNA-1:exon:1'),\n",
       " SeqFeature(FeatureLocation(ExactPosition(53460), ExactPosition(53751), strand=-1), type='exon', id='maker-4-est_gff_Cufflinks-gene-0.0-mRNA-1:exon:0'),\n",
       " SeqFeature(FeatureLocation(ExactPosition(64050), ExactPosition(64200), strand=-1), type='five_prime_UTR', id='maker-4-est_gff_Cufflinks-gene-0.0-mRNA-1:five_prime_utr'),\n",
       " SeqFeature(FeatureLocation(ExactPosition(63539), ExactPosition(64050), strand=-1), type='CDS', id='maker-4-est_gff_Cufflinks-gene-0.0-mRNA-1:cds'),\n",
       " SeqFeature(FeatureLocation(ExactPosition(57141), ExactPosition(61911), strand=-1), type='CDS', id='maker-4-est_gff_Cufflinks-gene-0.0-mRNA-1:cds'),\n",
       " SeqFeature(FeatureLocation(ExactPosition(56499), ExactPosition(57083), strand=-1), type='CDS', id='maker-4-est_gff_Cufflinks-gene-0.0-mRNA-1:cds'),\n",
       " SeqFeature(FeatureLocation(ExactPosition(53816), ExactPosition(53999), strand=-1), type='CDS', id='maker-4-est_gff_Cufflinks-gene-0.0-mRNA-1:cds'),\n",
       " SeqFeature(FeatureLocation(ExactPosition(53643), ExactPosition(53751), strand=-1), type='CDS', id='maker-4-est_gff_Cufflinks-gene-0.0-mRNA-1:cds'),\n",
       " SeqFeature(FeatureLocation(ExactPosition(53460), ExactPosition(53643), strand=-1), type='three_prime_UTR', id='maker-4-est_gff_Cufflinks-gene-0.0-mRNA-1:three_prime_utr')]"
      ]
     },
     "execution_count": 142,
     "metadata": {},
     "output_type": "execute_result"
    }
   ],
   "source": [
    "a_transcript.sub_features"
   ]
  },
  {
   "cell_type": "code",
   "execution_count": 143,
   "id": "603c191a",
   "metadata": {},
   "outputs": [
    {
     "data": {
      "text/plain": [
       "SeqFeature(CompoundLocation([FeatureLocation(ExactPosition(63539), ExactPosition(64050), strand=-1), FeatureLocation(ExactPosition(57141), ExactPosition(61911), strand=-1), FeatureLocation(ExactPosition(56499), ExactPosition(57083), strand=-1), FeatureLocation(ExactPosition(53816), ExactPosition(53999), strand=-1), FeatureLocation(ExactPosition(53643), ExactPosition(53751), strand=-1)], 'join'), type='CDS', location_operator='join')"
      ]
     },
     "execution_count": 143,
     "metadata": {},
     "output_type": "execute_result"
    }
   ],
   "source": [
    "target_type = \"CDS\"\n",
    "target_features = [f for f in recs[0].features[0].sub_features[0].sub_features if f.type == target_type]\n",
    "locs = [f.location for f in target_features]\n",
    "compound_loc = CompoundLocation(locs)\n",
    "feature_packed = SeqFeature(compound_loc, target_type)\n",
    "feature_packed"
   ]
  },
  {
   "cell_type": "code",
   "execution_count": 144,
   "id": "b3f601c6",
   "metadata": {},
   "outputs": [
    {
     "name": "stdout",
     "output_type": "stream",
     "text": [
      "join{[63539:64050](-), [57141:61911](-), [56499:57083](-), [53816:53999](-), [53643:53751](-)}\n"
     ]
    }
   ],
   "source": [
    "print(compound_loc)"
   ]
  },
  {
   "cell_type": "code",
   "execution_count": 145,
   "id": "931bce10",
   "metadata": {},
   "outputs": [],
   "source": [
    "start_pos = AfterPosition(5)\n",
    "end_pos = BeforePosition(10)\n",
    "my_location = FeatureLocation(start_pos, end_pos)"
   ]
  },
  {
   "cell_type": "code",
   "execution_count": 146,
   "id": "340feaf0",
   "metadata": {},
   "outputs": [
    {
     "data": {
      "text/plain": [
       "'>5'"
      ]
     },
     "execution_count": 146,
     "metadata": {},
     "output_type": "execute_result"
    }
   ],
   "source": [
    "str(my_location.start)"
   ]
  },
  {
   "cell_type": "code",
   "execution_count": 147,
   "id": "3594ba66",
   "metadata": {
    "scrolled": true
   },
   "outputs": [
    {
     "data": {
      "text/plain": [
       "{'ID': ['maker-4-est_gff_Cufflinks-gene-0.0-mRNA-1:cds'],\n",
       " 'Parent': ['maker-4-est_gff_Cufflinks-gene-0.0-mRNA-1'],\n",
       " 'source': ['maker'],\n",
       " 'phase': ['2']}"
      ]
     },
     "execution_count": 147,
     "metadata": {},
     "output_type": "execute_result"
    }
   ],
   "source": [
    "target_features[2].qualifiers"
   ]
  },
  {
   "cell_type": "code",
   "execution_count": 148,
   "id": "d72feb4a",
   "metadata": {},
   "outputs": [],
   "source": [
    "x = compound_loc.parts[0]"
   ]
  },
  {
   "cell_type": "code",
   "execution_count": 149,
   "id": "6996ec15",
   "metadata": {},
   "outputs": [
    {
     "data": {
      "text/plain": [
       "Bio.SeqFeature.ExactPosition"
      ]
     },
     "execution_count": 149,
     "metadata": {},
     "output_type": "execute_result"
    }
   ],
   "source": [
    "type(x.start)"
   ]
  },
  {
   "cell_type": "code",
   "execution_count": 150,
   "id": "4fcff229",
   "metadata": {},
   "outputs": [
    {
     "data": {
      "text/plain": [
       "[FeatureLocation(ExactPosition(63539), ExactPosition(64050), strand=-1),\n",
       " FeatureLocation(ExactPosition(57141), ExactPosition(61911), strand=-1),\n",
       " FeatureLocation(ExactPosition(56499), ExactPosition(57083), strand=-1),\n",
       " FeatureLocation(ExactPosition(53816), ExactPosition(53999), strand=-1),\n",
       " FeatureLocation(ExactPosition(53643), ExactPosition(53751), strand=-1)]"
      ]
     },
     "execution_count": 150,
     "metadata": {},
     "output_type": "execute_result"
    }
   ],
   "source": [
    "compound_loc.parts"
   ]
  },
  {
   "cell_type": "code",
   "execution_count": 151,
   "id": "02ab8a7d",
   "metadata": {},
   "outputs": [],
   "source": [
    "def table_to_str(table: List[List[str]]) -> str:\n",
    "    return \"\\n\".join(\"\\t\".join(items) for items in table)"
   ]
  },
  {
   "cell_type": "code",
   "execution_count": 152,
   "id": "a896995e",
   "metadata": {},
   "outputs": [],
   "source": [
    "def format_location(loc: Bio.SeqFeature.FeatureLocation) -> str:\n",
    "    \"\"\"Format Bio.SeqFeature.FeatureLocation\n",
    "    \"\"\"\n",
    "    return \"{start}..{end}\".format(start=loc.start, end=loc.end)"
   ]
  },
  {
   "cell_type": "code",
   "execution_count": 162,
   "id": "f97afb76",
   "metadata": {},
   "outputs": [],
   "source": [
    "def to_ddbj_table(rec: SeqRecord) -> List[List[str]]:\n",
    "    \"\"\"Convert GFF.SeqRecord into DDBJ annotation table format\n",
    "\n",
    "    DDBJ annotation table format is TSV (tab-separated variables) with 5 columns\n",
    "        - Column 1: Sequence ID\n",
    "        - Column 2: Feature Key\n",
    "        - Column 3: Location\n",
    "        - Column 4: Qualifier Key\n",
    "        - Column 5: Qualifier Value\n",
    "\n",
    "    Many entries are blank.\n",
    "\n",
    "    Example:\n",
    "    [\n",
    "        [\"CLN01\", \"source\", \"1..12297\"                         , \"organism\"   ,  \"Mus musculus\"  ],\n",
    "        [       ,         ,                                    , \"mol_type\"   ,  \"genomic DNA\"   ],\n",
    "        [       ,         ,                                    , \"clone\"      ,  \"PC0110\"        ],\n",
    "        [       ,         ,                                    , \"chromosome\" ,  \"8\"             ],\n",
    "        [       ,  \"CDS\"  , \"join(<1..456,609..879,1070..1213)\", \"product\"    ,  \"protein kinase\"],\n",
    "        [       ,         ,                                    , \"codon_start\",  \"2\"             ],\n",
    "    ]\n",
    "\n",
    "    \"\"\"\n",
    "    lines = sum(\n",
    "        len(vals) if isinstance(vals, list) else 1\n",
    "        for feature in rec.features\n",
    "        for vals in feature.qualifiers.values()\n",
    "    )\n",
    "    print(\"lines: {}\".format(lines))\n",
    "    table = [[\"\" for _ in range(5)] for _ in range(lines)]\n",
    "    table[0][0] = str(rec.id)\n",
    "\n",
    "    idx = 0\n",
    "    for feature in rec.features:\n",
    "        is_first_line = True\n",
    "        for (qualifier_key, values) in feature.qualifiers.items():\n",
    "            values = values if isinstance(values, list) else [values]\n",
    "            for qualifier_value in values:\n",
    "                if is_first_line:\n",
    "                    is_first_line = False\n",
    "                    table[idx][1] = feature.type\n",
    "                    if feature.location is not None:\n",
    "                        table[idx][2] = format_location(feature.location)\n",
    "                table[idx][3] = qualifier_key\n",
    "                table[idx][4] = str(qualifier_value)\n",
    "                idx += 1\n",
    "\n",
    "    return table\n"
   ]
  },
  {
   "cell_type": "code",
   "execution_count": 163,
   "id": "1b042470",
   "metadata": {},
   "outputs": [
    {
     "name": "stdout",
     "output_type": "stream",
     "text": [
      "lines: 276\n",
      "4\tgene\t53460..64200\tID\tmaker-4-est_gff_Cufflinks-gene-0.0\n",
      "\t\t\tName\tmaker-4-est_gff_Cufflinks-gene-0.0\n",
      "\t\t\tscore\t7.864828\n",
      "\t\t\tsource\tmaker\n",
      "\tgene\t90013..128029\tID\tmaker-4-est_gff_Cufflinks-gene-1.0\n",
      "\t\t\tName\tmaker-4-est_gff_Cufflinks-gene-1.0\n",
      "\t\t\tscore\t6.732889\n",
      "\t\t\tsource\tmaker\n",
      "\tgene\t152875..163632\tID\tmaker-4-est_gff_Cufflinks-gene-1.1\n",
      "\t\t\tName\tmaker-4-est_gff_Cufflinks-gene-1.1\n",
      "\t\t\tscore\t16.569730\n",
      "\t\t\tsource\tmaker\n",
      "\tgene\t68503..76929\tID\tmaker-4-est_gff_Cufflinks-gene-1.2\n",
      "\t\t\tName\tmaker-4-est_gff_Cufflinks-gene-1.2\n",
      "\t\t\tscore\t20.410109\n",
      "\t\t\tsource\tmaker\n",
      "\tgene\t86132..87863\tID\tmaker-4-est_gff_Cufflinks-gene-1.3\n",
      "\t\t\tName\tmaker-4-est_gff_Cufflinks-gene-1.3\n",
      "\t\t\tscore\t2132.029560\n",
      "\t\t\tsource\tmaker\n",
      "\tgene\t135602..150357\tID\tmaker-4-est_gff_Cufflinks-gene-1.4\n",
      "\t\t\tName\tmaker-4-est_gff_Cufflinks-gene-1.4\n",
      "\t\t\tscore\t5.745459\n",
      "\t\t\tsource\tmaker\n",
      "\tgene\t230940..235351\tID\tmaker-4-est_gff_Cufflinks-gene-2.0\n",
      "\t\t\tName\tmaker-4-est_gff_Cufflinks-gene-2.0\n",
      "\t\t\tscore\t39.430468\n",
      "\t\t\tsource\tmaker\n",
      "\tgene\t248672..250746\tID\tmaker-4-est_gff_Cufflinks-gene-2.1\n",
      "\t\t\tName\tmaker-4-est_gff_Cufflinks-gene-2.1\n",
      "\t\t\tscore\t4.645418\n",
      "\t\t\tsource\tmaker\n",
      "\tgene\t251493..266521\tID\tmaker-4-est_gff_Cufflinks-gene-2.2\n",
      "\t\t\tName\tmaker-4-est_gff_Cufflinks-gene-2.2\n",
      "\t\t\tscore\t14.747281\n",
      "\t\t\tsource\tmaker\n",
      "\tgene\t175392..177373\tID\tmaker-4-est_gff_Cufflinks-gene-2.3\n",
      "\t\t\tName\tmaker-4-est_gff_Cufflinks-gene-2.3\n",
      "\t\t\tscore\t102.790301\n",
      "\t\t\tsource\tmaker\n",
      "\tgene\t179121..181592\tID\tmaker-4-est_gff_Cufflinks-gene-2.4\n",
      "\t\t\tName\tmaker-4-est_gff_Cufflinks-gene-2.4\n",
      "\t\t\tscore\t4.200902\n",
      "\t\t\tsource\tmaker\n",
      "\tgene\t192254..195746\tID\tmaker-4-est_gff_Cufflinks-gene-2.5\n",
      "\t\t\tName\tmaker-4-est_gff_Cufflinks-gene-2.5\n",
      "\t\t\tscore\t7.322390\n",
      "\t\t\tsource\tmaker\n",
      "\tgene\t198561..199989\tID\tmaker-4-est_gff_Cufflinks-gene-2.6\n",
      "\t\t\tName\tmaker-4-est_gff_Cufflinks-gene-2.6\n",
      "\t\t\tscore\t7.874742\n",
      "\t\t\tsource\tmaker\n",
      "\tgene\t205007..214363\tID\tmaker-4-est_gff_Cufflinks-gene-2.7\n",
      "\t\t\tName\tmaker-4-est_gff_Cufflinks-gene-2.7\n",
      "\t\t\tscore\t22.111421\n",
      "\t\t\tsource\tmaker\n",
      "\tgene\t218396..224979\tID\tmaker-4-est_gff_Cufflinks-gene-2.8\n",
      "\t\t\tName\tmaker-4-est_gff_Cufflinks-gene-2.8\n",
      "\t\t\tscore\t24.108328\n",
      "\t\t\tsource\tmaker\n",
      "\tgene\t235619..246974\tID\tmaker-4-est_gff_Cufflinks-gene-2.9\n",
      "\t\t\tName\tmaker-4-est_gff_Cufflinks-gene-2.9\n",
      "\t\t\tscore\t7.940946\n",
      "\t\t\tsource\tmaker\n",
      "\tgene\t277192..285576\tID\tmaker-4-est_gff_Cufflinks-gene-3.0\n",
      "\t\t\tName\tmaker-4-est_gff_Cufflinks-gene-3.0\n",
      "\t\t\tscore\t4.884038\n",
      "\t\t\tsource\tmaker\n",
      "\tgene\t328731..330806\tID\tmaker-4-est_gff_Cufflinks-gene-3.1\n",
      "\t\t\tName\tmaker-4-est_gff_Cufflinks-gene-3.1\n",
      "\t\t\tscore\t15.891017\n",
      "\t\t\tsource\tmaker\n",
      "\tgene\t270232..273635\tID\tmaker-4-est_gff_Cufflinks-gene-3.2\n",
      "\t\t\tName\tmaker-4-est_gff_Cufflinks-gene-3.2\n",
      "\t\t\tscore\t5.206707\n",
      "\t\t\tsource\tmaker\n",
      "\tgene\t291096..293023\tID\tmaker-4-est_gff_Cufflinks-gene-3.3\n",
      "\t\t\tName\tmaker-4-est_gff_Cufflinks-gene-3.3\n",
      "\t\t\tscore\t3.522070\n",
      "\t\t\tsource\tmaker\n",
      "\tgene\t333460..334513\tID\tmaker-4-est_gff_Cufflinks-gene-3.4\n",
      "\t\t\tName\tmaker-4-est_gff_Cufflinks-gene-3.4\n",
      "\t\t\tscore\t8.375010\n",
      "\t\t\tsource\tmaker\n",
      "\tgene\t381237..393031\tID\tmaker-4-est_gff_Cufflinks-gene-4.0\n",
      "\t\t\tName\tmaker-4-est_gff_Cufflinks-gene-4.0\n",
      "\t\t\tscore\t7.645789\n",
      "\t\t\tsource\tmaker\n",
      "\tgene\t349652..379278\tID\tmaker-4-est_gff_Cufflinks-gene-4.1\n",
      "\t\t\tName\tmaker-4-est_gff_Cufflinks-gene-4.1\n",
      "\t\t\tscore\t41.722502\n",
      "\t\t\tsource\tmaker\n",
      "\tgene\t396530..414714\tID\tmaker-4-est_gff_Cufflinks-gene-4.2\n",
      "\t\t\tName\tmaker-4-est_gff_Cufflinks-gene-4.2\n",
      "\t\t\tscore\t4.115880\n",
      "\t\t\tsource\tmaker\n",
      "\tgene\t457795..464500\tID\tmaker-4-est_gff_Cufflinks-gene-4.3\n",
      "\t\t\tName\tmaker-4-est_gff_Cufflinks-gene-4.3\n",
      "\t\t\tscore\t22.040664\n",
      "\t\t\tsource\tmaker\n",
      "\tgene\t466488..473795\tID\tmaker-4-est_gff_Cufflinks-gene-5.0\n",
      "\t\t\tName\tmaker-4-est_gff_Cufflinks-gene-5.0\n",
      "\t\t\tscore\t30.377660\n",
      "\t\t\tsource\tmaker\n",
      "\tgene\t522481..559294\tID\tmaker-4-est_gff_Cufflinks-gene-5.1\n",
      "\t\t\tName\tmaker-4-est_gff_Cufflinks-gene-5.1\n",
      "\t\t\tscore\t3.999567\n",
      "\t\t\tsource\tmaker\n",
      "\tgene\t480539..487434\tID\tmaker-4-est_gff_Cufflinks-gene-5.2\n",
      "\t\t\tName\tmaker-4-est_gff_Cufflinks-gene-5.2\n",
      "\t\t\tscore\t21.538073\n",
      "\t\t\tsource\tmaker\n",
      "\tgene\t492375..505868\tID\tmaker-4-est_gff_Cufflinks-gene-5.3\n",
      "\t\t\tName\tmaker-4-est_gff_Cufflinks-gene-5.3\n",
      "\t\t\tscore\t6.547508\n",
      "\t\t\tsource\tmaker\n",
      "\tgene\t578627..586515\tID\tmaker-4-est_gff_Cufflinks-gene-6.0\n",
      "\t\t\tName\tmaker-4-est_gff_Cufflinks-gene-6.0\n",
      "\t\t\tscore\t13.675002\n",
      "\t\t\tsource\tmaker\n",
      "\tgene\t592410..598915\tID\tmaker-4-est_gff_Cufflinks-gene-6.1\n",
      "\t\t\tName\tmaker-4-est_gff_Cufflinks-gene-6.1\n",
      "\t\t\tscore\t23.130083\n",
      "\t\t\tsource\tmaker\n",
      "\tgene\t631375..640972\tID\tmaker-4-est_gff_Cufflinks-gene-6.2\n",
      "\t\t\tName\tmaker-4-est_gff_Cufflinks-gene-6.2\n",
      "\t\t\tscore\t12.604912\n",
      "\t\t\tsource\tmaker\n",
      "\tgene\t650342..655236\tID\tmaker-4-est_gff_Cufflinks-gene-6.3\n",
      "\t\t\tName\tmaker-4-est_gff_Cufflinks-gene-6.3\n",
      "\t\t\tscore\t10.654461\n",
      "\t\t\tsource\tmaker\n",
      "\tgene\t566000..578528\tID\tmaker-4-est_gff_Cufflinks-gene-6.4\n",
      "\t\t\tName\tmaker-4-est_gff_Cufflinks-gene-6.4\n",
      "\t\t\tscore\t24.622296\n",
      "\t\t\tsource\tmaker\n",
      "\tgene\t588911..592204\tID\tmaker-4-est_gff_Cufflinks-gene-6.5\n",
      "\t\t\tName\tmaker-4-est_gff_Cufflinks-gene-6.5\n",
      "\t\t\tscore\t69.647319\n",
      "\t\t\tsource\tmaker\n",
      "\tgene\t621342..627388\tID\tmaker-4-est_gff_Cufflinks-gene-6.6\n",
      "\t\t\tName\tmaker-4-est_gff_Cufflinks-gene-6.6\n",
      "\t\t\tscore\t4.060546\n",
      "\t\t\tsource\tmaker\n",
      "\tgene\t643985..646634\tID\tmaker-4-est_gff_Cufflinks-gene-6.7\n",
      "\t\t\tName\tmaker-4-est_gff_Cufflinks-gene-6.7\n",
      "\t\t\tscore\t17.999811\n",
      "\t\t\tsource\tmaker\n",
      "\tgene\t684292..690500\tID\tmaker-4-est_gff_Cufflinks-gene-7.0\n",
      "\t\t\tName\tmaker-4-est_gff_Cufflinks-gene-7.0\n",
      "\t\t\tscore\t22.772676\n",
      "\t\t\tsource\tmaker\n",
      "\tgene\t691789..707851\tID\tmaker-4-est_gff_Cufflinks-gene-7.1\n",
      "\t\t\tName\tmaker-4-est_gff_Cufflinks-gene-7.1\n",
      "\t\t\tscore\t6.478524\n",
      "\t\t\tsource\tmaker\n",
      "\tgene\t731565..738548\tID\tmaker-4-est_gff_Cufflinks-gene-7.2\n",
      "\t\t\tName\tmaker-4-est_gff_Cufflinks-gene-7.2\n",
      "\t\t\tscore\t2.300636\n",
      "\t\t\tsource\tmaker\n",
      "\tgene\t670819..680610\tID\tmaker-4-est_gff_Cufflinks-gene-7.3\n",
      "\t\t\tName\tmaker-4-est_gff_Cufflinks-gene-7.3\n",
      "\t\t\tscore\t46.517549\n",
      "\t\t\tsource\tmaker\n",
      "\tgene\t712619..716425\tID\tmaker-4-est_gff_Cufflinks-gene-7.4\n",
      "\t\t\tName\tmaker-4-est_gff_Cufflinks-gene-7.4\n",
      "\t\t\tscore\t6.778729\n",
      "\t\t\tsource\tmaker\n",
      "\tgene\t760601..796672\tID\tmaker-4-est_gff_Cufflinks-gene-8.0\n",
      "\t\t\tName\tmaker-4-est_gff_Cufflinks-gene-8.0\n",
      "\t\t\tscore\t12.389851\n",
      "\t\t\tsource\tmaker\n",
      "\tgene\t799387..809622\tID\tmaker-4-est_gff_Cufflinks-gene-8.1\n",
      "\t\t\tName\tmaker-4-est_gff_Cufflinks-gene-8.1\n",
      "\t\t\tscore\t8.381466\n",
      "\t\t\tsource\tmaker\n",
      "\tgene\t821758..844213\tID\tmaker-4-est_gff_Cufflinks-gene-8.2\n",
      "\t\t\tName\tmaker-4-est_gff_Cufflinks-gene-8.2\n",
      "\t\t\tscore\t0.766957\n",
      "\t\t\tsource\tmaker\n",
      "\tgene\t1010749..1027162\tID\tmaker-4-est_gff_Cufflinks-gene-10.0\n",
      "\t\t\tName\tmaker-4-est_gff_Cufflinks-gene-10.0\n",
      "\t\t\tscore\t7.857641\n",
      "\t\t\tsource\tmaker\n",
      "\tgene\t1052220..1055114\tID\tmaker-4-est_gff_Cufflinks-gene-10.1\n",
      "\t\t\tName\tmaker-4-est_gff_Cufflinks-gene-10.1\n",
      "\t\t\tscore\t606.626674\n",
      "\t\t\tsource\tmaker\n",
      "\tgene\t972326..980172\tID\tmaker-4-est_gff_Cufflinks-gene-10.2\n",
      "\t\t\tName\tmaker-4-est_gff_Cufflinks-gene-10.2\n",
      "\t\t\tscore\t10.978575\n",
      "\t\t\tsource\tmaker\n",
      "\tgene\t1034273..1047643\tID\tmaker-4-est_gff_Cufflinks-gene-10.3\n",
      "\t\t\tName\tmaker-4-est_gff_Cufflinks-gene-10.3\n",
      "\t\t\tscore\t19.672496\n",
      "\t\t\tsource\tmaker\n",
      "\tgene\t876062..887627\tID\tmaker-4-est_gff_Cufflinks-gene-9.0\n",
      "\t\t\tName\tmaker-4-est_gff_Cufflinks-gene-9.0\n",
      "\t\t\tscore\t29.564938\n",
      "\t\t\tsource\tmaker\n",
      "\tgene\t891968..922018\tID\tmaker-4-est_gff_Cufflinks-gene-9.1\n",
      "\t\t\tName\tmaker-4-est_gff_Cufflinks-gene-9.1\n",
      "\t\t\tscore\t3.945719\n",
      "\t\t\tsource\tmaker\n",
      "\tgene\t922756..925151\tID\tmaker-4-est_gff_Cufflinks-gene-9.2\n",
      "\t\t\tName\tmaker-4-est_gff_Cufflinks-gene-9.2\n",
      "\t\t\tscore\t3.712005\n",
      "\t\t\tsource\tmaker\n",
      "\tgene\t936261..951225\tID\tmaker-4-est_gff_Cufflinks-gene-9.3\n",
      "\t\t\tName\tmaker-4-est_gff_Cufflinks-gene-9.3\n",
      "\t\t\tscore\t65.017203\n",
      "\t\t\tsource\tmaker\n",
      "\tgene\t1085371..1096757\tID\tmaker-4-est_gff_Cufflinks-gene-11.0\n",
      "\t\t\tName\tmaker-4-est_gff_Cufflinks-gene-11.0\n",
      "\t\t\tscore\t416.778557\n",
      "\t\t\tsource\tmaker\n",
      "\tgene\t1144812..1145683\tID\tmaker-4-est_gff_Cufflinks-gene-11.1\n",
      "\t\t\tName\tmaker-4-est_gff_Cufflinks-gene-11.1\n",
      "\t\t\tscore\t116.020688\n",
      "\t\t\tsource\tmaker\n",
      "\tgene\t1147492..1156515\tID\tmaker-4-est_gff_Cufflinks-gene-11.2\n",
      "\t\t\tName\tmaker-4-est_gff_Cufflinks-gene-11.2\n",
      "\t\t\tscore\t23.997139\n",
      "\t\t\tsource\tmaker\n",
      "\tgene\t1057793..1074547\tID\tmaker-4-est_gff_Cufflinks-gene-11.3\n",
      "\t\t\tName\tmaker-4-est_gff_Cufflinks-gene-11.3\n",
      "\t\t\tscore\t14.890840\n",
      "\t\t\tsource\tmaker\n",
      "\tgene\t1078075..1081443\tID\tmaker-4-est_gff_Cufflinks-gene-11.4\n",
      "\t\t\tName\tmaker-4-est_gff_Cufflinks-gene-11.4\n",
      "\t\t\tscore\t18.095405\n",
      "\t\t\tsource\tmaker\n",
      "\tgene\t1101819..1103638\tID\tmaker-4-est_gff_Cufflinks-gene-11.5\n",
      "\t\t\tName\tmaker-4-est_gff_Cufflinks-gene-11.5\n",
      "\t\t\tscore\t2.345474\n",
      "\t\t\tsource\tmaker\n",
      "\tgene\t1136361..1143957\tID\tmaker-4-est_gff_Cufflinks-gene-11.6\n",
      "\t\t\tName\tmaker-4-est_gff_Cufflinks-gene-11.6\n",
      "\t\t\tscore\t34.747294\n",
      "\t\t\tsource\tmaker\n",
      "\tgene\t1161337..1164649\tID\tmaker-4-est_gff_Cufflinks-gene-11.7\n",
      "\t\t\tName\tmaker-4-est_gff_Cufflinks-gene-11.7\n",
      "\t\t\tscore\t5.556475\n",
      "\t\t\tsource\tmaker\n",
      "\tgene\t1208177..1213081\tID\tmaker-4-est_gff_Cufflinks-gene-12.0\n",
      "\t\t\tName\tmaker-4-est_gff_Cufflinks-gene-12.0\n",
      "\t\t\tscore\t25.637434\n",
      "\t\t\tsource\tmaker\n",
      "\tgene\t1223581..1225603\tID\tmaker-4-est_gff_Cufflinks-gene-12.1\n",
      "\t\t\tName\tmaker-4-est_gff_Cufflinks-gene-12.1\n",
      "\t\t\tscore\t11.953319\n",
      "\t\t\tsource\tmaker\n",
      "\tgene\t1235793..1247226\tID\tmaker-4-est_gff_Cufflinks-gene-12.2\n",
      "\t\t\tName\tmaker-4-est_gff_Cufflinks-gene-12.2\n",
      "\t\t\tscore\t6.170591\n",
      "\t\t\tsource\tmaker\n",
      "\tgene\t1247331..1249344\tID\tmaker-4-est_gff_Cufflinks-gene-12.3\n",
      "\t\t\tName\tmaker-4-est_gff_Cufflinks-gene-12.3\n",
      "\t\t\tscore\t4.524516\n",
      "\t\t\tsource\tmaker\n",
      "\tgene\t1249397..1274862\tID\tmaker-4-est_gff_Cufflinks-gene-12.4\n",
      "\t\t\tName\tmaker-4-est_gff_Cufflinks-gene-12.4\n",
      "\t\t\tscore\t3.894090\n",
      "\t\t\tsource\tmaker\n",
      "\tgene\t1193405..1195633\tID\tmaker-4-est_gff_Cufflinks-gene-12.5\n",
      "\t\t\tName\tmaker-4-est_gff_Cufflinks-gene-12.5\n",
      "\t\t\tscore\t22.671003\n",
      "\t\t\tsource\tmaker\n",
      "\tgene\t1213069..1217101\tID\tmaker-4-est_gff_Cufflinks-gene-12.6\n",
      "\t\t\tName\tmaker-4-est_gff_Cufflinks-gene-12.6\n",
      "\t\t\tscore\t55.315775\n",
      "\t\t\tsource\tmaker\n",
      "\tgene\t1229576..1234143\tID\tmaker-4-est_gff_Cufflinks-gene-12.7\n",
      "\t\t\tName\tmaker-4-est_gff_Cufflinks-gene-12.7\n",
      "\t\t\tscore\t26.099614\n",
      "\t\t\tsource\tmaker\n"
     ]
    }
   ],
   "source": [
    "tbl = to_ddbj_table(entry)\n",
    "s = table_to_str(tbl)\n",
    "print(s)"
   ]
  },
  {
   "cell_type": "code",
   "execution_count": 18,
   "id": "ce12d766",
   "metadata": {},
   "outputs": [],
   "source": [
    "def get_containment_relation(features: Iterable[SeqFeature]) -> Dict[SeqFeature, List[SeqFeature]]:\n",
    "    \"\"\"Find containment relation and return dictionary such that\n",
    "    a key contains its value as sub-segments.\n",
    "    \"\"\"\n",
    "    res = collections.defaultdict(list)\n",
    "    for f1, f2 in it.combinations(features, 2):\n",
    "        start1 = f1.location.start\n",
    "        end1 = f1.location.end\n",
    "        start2 = f2.location.start\n",
    "        end2 = f2.location.end\n",
    "        if start1 <= start2 and end2 <= end1:\n",
    "            res[f1].append(f2)\n",
    "        elif start2 <= start1 and end1 <= end2:\n",
    "            res[f2].append(f1)\n",
    "        elif end1 <= start2 or end2 <= start1:\n",
    "            # note that biopython's segment is [start, end) \n",
    "            pass\n",
    "        else:\n",
    "            loc1 = str(f1.location)\n",
    "            loc2 = str(f2.location)\n",
    "            print(\"Intersection (0-based): {}:{} and {}:{}\".format(f1.type, loc1, f2.type, loc2))\n",
    "    return res\n",
    "\n",
    "def group_by_id(features: Iterable[SeqFeature]) -> Dict[Tuple[str, str], List[SeqFeature]]:\n",
    "    \"\"\"Group segments by (ID, featureKey)\n",
    "    \"\"\"\n",
    "    res = collections.defaultdict(list)\n",
    "    for feature in features:\n",
    "        tup = (feature.id, feature.type)\n",
    "        res[tup].append(feature)\n",
    "    return res"
   ]
  },
  {
   "cell_type": "code",
   "execution_count": 19,
   "id": "cd7abd24",
   "metadata": {},
   "outputs": [
    {
     "name": "stdout",
     "output_type": "stream",
     "text": [
      "Intersection (0-based): gene:[1208177:1213081](+) and gene:[1213069:1217101](-)\n"
     ]
    },
    {
     "data": {
      "text/plain": [
       "defaultdict(list, {})"
      ]
     },
     "execution_count": 19,
     "metadata": {},
     "output_type": "execute_result"
    }
   ],
   "source": [
    "# Containment and intersection of segments do not work as different CDS can overlap anyway\n",
    "get_containment_relation(entry.features)"
   ]
  },
  {
   "cell_type": "code",
   "execution_count": 20,
   "id": "0c7116fd",
   "metadata": {},
   "outputs": [
    {
     "name": "stdout",
     "output_type": "stream",
     "text": [
      "('maker-4-est_gff_Cufflinks-gene-0.0', 'gene'): 1\n",
      "('maker-4-est_gff_Cufflinks-gene-1.0', 'gene'): 1\n",
      "('maker-4-est_gff_Cufflinks-gene-1.1', 'gene'): 1\n",
      "('maker-4-est_gff_Cufflinks-gene-1.2', 'gene'): 1\n",
      "('maker-4-est_gff_Cufflinks-gene-1.3', 'gene'): 1\n",
      "('maker-4-est_gff_Cufflinks-gene-1.4', 'gene'): 1\n",
      "('maker-4-est_gff_Cufflinks-gene-2.0', 'gene'): 1\n",
      "('maker-4-est_gff_Cufflinks-gene-2.1', 'gene'): 1\n",
      "('maker-4-est_gff_Cufflinks-gene-2.2', 'gene'): 1\n",
      "('maker-4-est_gff_Cufflinks-gene-2.3', 'gene'): 1\n",
      "('maker-4-est_gff_Cufflinks-gene-2.4', 'gene'): 1\n",
      "('maker-4-est_gff_Cufflinks-gene-2.5', 'gene'): 1\n",
      "('maker-4-est_gff_Cufflinks-gene-2.6', 'gene'): 1\n",
      "('maker-4-est_gff_Cufflinks-gene-2.7', 'gene'): 1\n",
      "('maker-4-est_gff_Cufflinks-gene-2.8', 'gene'): 1\n",
      "('maker-4-est_gff_Cufflinks-gene-2.9', 'gene'): 1\n",
      "('maker-4-est_gff_Cufflinks-gene-3.0', 'gene'): 1\n",
      "('maker-4-est_gff_Cufflinks-gene-3.1', 'gene'): 1\n",
      "('maker-4-est_gff_Cufflinks-gene-3.2', 'gene'): 1\n",
      "('maker-4-est_gff_Cufflinks-gene-3.3', 'gene'): 1\n",
      "('maker-4-est_gff_Cufflinks-gene-3.4', 'gene'): 1\n",
      "('maker-4-est_gff_Cufflinks-gene-4.0', 'gene'): 1\n",
      "('maker-4-est_gff_Cufflinks-gene-4.1', 'gene'): 1\n",
      "('maker-4-est_gff_Cufflinks-gene-4.2', 'gene'): 1\n",
      "('maker-4-est_gff_Cufflinks-gene-4.3', 'gene'): 1\n",
      "('maker-4-est_gff_Cufflinks-gene-5.0', 'gene'): 1\n",
      "('maker-4-est_gff_Cufflinks-gene-5.1', 'gene'): 1\n",
      "('maker-4-est_gff_Cufflinks-gene-5.2', 'gene'): 1\n",
      "('maker-4-est_gff_Cufflinks-gene-5.3', 'gene'): 1\n",
      "('maker-4-est_gff_Cufflinks-gene-6.0', 'gene'): 1\n",
      "('maker-4-est_gff_Cufflinks-gene-6.1', 'gene'): 1\n",
      "('maker-4-est_gff_Cufflinks-gene-6.2', 'gene'): 1\n",
      "('maker-4-est_gff_Cufflinks-gene-6.3', 'gene'): 1\n",
      "('maker-4-est_gff_Cufflinks-gene-6.4', 'gene'): 1\n",
      "('maker-4-est_gff_Cufflinks-gene-6.5', 'gene'): 1\n",
      "('maker-4-est_gff_Cufflinks-gene-6.6', 'gene'): 1\n",
      "('maker-4-est_gff_Cufflinks-gene-6.7', 'gene'): 1\n",
      "('maker-4-est_gff_Cufflinks-gene-7.0', 'gene'): 1\n",
      "('maker-4-est_gff_Cufflinks-gene-7.1', 'gene'): 1\n",
      "('maker-4-est_gff_Cufflinks-gene-7.2', 'gene'): 1\n",
      "('maker-4-est_gff_Cufflinks-gene-7.3', 'gene'): 1\n",
      "('maker-4-est_gff_Cufflinks-gene-7.4', 'gene'): 1\n",
      "('maker-4-est_gff_Cufflinks-gene-8.0', 'gene'): 1\n",
      "('maker-4-est_gff_Cufflinks-gene-8.1', 'gene'): 1\n",
      "('maker-4-est_gff_Cufflinks-gene-8.2', 'gene'): 1\n",
      "('maker-4-est_gff_Cufflinks-gene-10.0', 'gene'): 1\n",
      "('maker-4-est_gff_Cufflinks-gene-10.1', 'gene'): 1\n",
      "('maker-4-est_gff_Cufflinks-gene-10.2', 'gene'): 1\n",
      "('maker-4-est_gff_Cufflinks-gene-10.3', 'gene'): 1\n",
      "('maker-4-est_gff_Cufflinks-gene-9.0', 'gene'): 1\n",
      "('maker-4-est_gff_Cufflinks-gene-9.1', 'gene'): 1\n",
      "('maker-4-est_gff_Cufflinks-gene-9.2', 'gene'): 1\n",
      "('maker-4-est_gff_Cufflinks-gene-9.3', 'gene'): 1\n",
      "('maker-4-est_gff_Cufflinks-gene-11.0', 'gene'): 1\n",
      "('maker-4-est_gff_Cufflinks-gene-11.1', 'gene'): 1\n",
      "('maker-4-est_gff_Cufflinks-gene-11.2', 'gene'): 1\n",
      "('maker-4-est_gff_Cufflinks-gene-11.3', 'gene'): 1\n",
      "('maker-4-est_gff_Cufflinks-gene-11.4', 'gene'): 1\n",
      "('maker-4-est_gff_Cufflinks-gene-11.5', 'gene'): 1\n",
      "('maker-4-est_gff_Cufflinks-gene-11.6', 'gene'): 1\n",
      "('maker-4-est_gff_Cufflinks-gene-11.7', 'gene'): 1\n",
      "('maker-4-est_gff_Cufflinks-gene-12.0', 'gene'): 1\n",
      "('maker-4-est_gff_Cufflinks-gene-12.1', 'gene'): 1\n",
      "('maker-4-est_gff_Cufflinks-gene-12.2', 'gene'): 1\n",
      "('maker-4-est_gff_Cufflinks-gene-12.3', 'gene'): 1\n",
      "('maker-4-est_gff_Cufflinks-gene-12.4', 'gene'): 1\n",
      "('maker-4-est_gff_Cufflinks-gene-12.5', 'gene'): 1\n",
      "('maker-4-est_gff_Cufflinks-gene-12.6', 'gene'): 1\n",
      "('maker-4-est_gff_Cufflinks-gene-12.7', 'gene'): 1\n"
     ]
    }
   ],
   "source": [
    "# Grouping by (ID, featureKey)\n",
    "d = group_by_id(entry.features)\n",
    "for k, vs in d.items():\n",
    "    print(\"{}: {}\".format(k, len(vs)))"
   ]
  },
  {
   "cell_type": "code",
   "execution_count": null,
   "id": "cd2e27d8",
   "metadata": {},
   "outputs": [],
   "source": []
  },
  {
   "cell_type": "code",
   "execution_count": 23,
   "id": "86dc2133",
   "metadata": {},
   "outputs": [
    {
     "data": {
      "text/plain": [
       "Counter({'mRNA': 1})"
      ]
     },
     "execution_count": 23,
     "metadata": {},
     "output_type": "execute_result"
    }
   ],
   "source": [
    "import collections\n",
    "collections.Counter(f.type for f in entry.features[0].sub_features)"
   ]
  },
  {
   "cell_type": "code",
   "execution_count": 24,
   "id": "ab0b675a",
   "metadata": {},
   "outputs": [
    {
     "data": {
      "text/plain": [
       "Counter({'exon': 5, 'five_prime_UTR': 1, 'CDS': 5, 'three_prime_UTR': 1})"
      ]
     },
     "execution_count": 24,
     "metadata": {},
     "output_type": "execute_result"
    }
   ],
   "source": [
    "collections.Counter(f.type for f in entry.features[0].sub_features[0].sub_features)"
   ]
  },
  {
   "cell_type": "markdown",
   "id": "4ea14920",
   "metadata": {},
   "source": [
    "## Testing translators in `src`"
   ]
  },
  {
   "cell_type": "code",
   "execution_count": 26,
   "id": "0b36af0d",
   "metadata": {},
   "outputs": [],
   "source": [
    "import json\n",
    "import pathlib\n",
    "import sys\n",
    "\n",
    "pwd = pathlib.Path.cwd().parent / \"src\"\n",
    "sys.path.append(str(pwd))\n",
    "from modules import translators\n",
    "\n",
    "paths = [\"../src/modules/gff_column_to_ddbj_qualifier.json\", \"../src/modules/gff_attribute_to_ddbj_qualifier.json\"]\n",
    "paths = [pathlib.Path(p).absolute() for p in paths]"
   ]
  },
  {
   "cell_type": "code",
   "execution_count": 27,
   "id": "11e847c0",
   "metadata": {},
   "outputs": [],
   "source": [
    "qualifier_converter = translators.GFF3AttributesToQualifiers(paths)"
   ]
  },
  {
   "cell_type": "code",
   "execution_count": 28,
   "id": "ec677b63",
   "metadata": {},
   "outputs": [],
   "source": [
    "entry = qualifier_converter.run(entry)"
   ]
  },
  {
   "cell_type": "code",
   "execution_count": 29,
   "id": "e47e9cc0",
   "metadata": {},
   "outputs": [
    {
     "data": {
      "text/plain": [
       "{'note': ['source:maker'],\n",
       " '_AED': ['0.11'],\n",
       " '_eAED': ['0.11'],\n",
       " '_QI': ['30|1|1|1|0|0|5|103|441']}"
      ]
     },
     "execution_count": 29,
     "metadata": {},
     "output_type": "execute_result"
    }
   ],
   "source": [
    "entry.features[-3].sub_features[0].qualifiers"
   ]
  },
  {
   "cell_type": "code",
   "execution_count": 30,
   "id": "84c6d339",
   "metadata": {},
   "outputs": [
    {
     "data": {
      "text/plain": [
       "{'note': ['source:maker'], 'codon_start': ['0']}"
      ]
     },
     "execution_count": 30,
     "metadata": {},
     "output_type": "execute_result"
    }
   ],
   "source": [
    "cds = [f for f in entry.features[0].sub_features[0].sub_features if f.type == \"CDS\"]\n",
    "cds[0].qualifiers"
   ]
  },
  {
   "cell_type": "code",
   "execution_count": 31,
   "id": "c438e569",
   "metadata": {},
   "outputs": [
    {
     "data": {
      "text/plain": [
       "Counter({'exon': 5, 'five_prime_UTR': 1, 'CDS': 5, 'three_prime_UTR': 1})"
      ]
     },
     "execution_count": 31,
     "metadata": {},
     "output_type": "execute_result"
    }
   ],
   "source": [
    "collections.Counter(f.type for f in entry.features[0].sub_features[0].sub_features)"
   ]
  },
  {
   "cell_type": "code",
   "execution_count": 32,
   "id": "fd8e329a",
   "metadata": {},
   "outputs": [],
   "source": [
    "paths = [\"../src/modules/gff_type_to_ddbj_feature.json\"]\n",
    "paths = [pathlib.Path(p).absolute() for p in paths]\n",
    "feature_converter = translators.GFF3TypesToFeatures(paths)"
   ]
  },
  {
   "cell_type": "code",
   "execution_count": 33,
   "id": "b8698bbf",
   "metadata": {},
   "outputs": [],
   "source": [
    "entry = feature_converter.run(entry)"
   ]
  },
  {
   "cell_type": "code",
   "execution_count": 34,
   "id": "fd260a18",
   "metadata": {},
   "outputs": [
    {
     "data": {
      "text/plain": [
       "Counter({'exon': 5, \"5'UTR\": 1, 'CDS': 5, \"3'UTR\": 1})"
      ]
     },
     "execution_count": 34,
     "metadata": {},
     "output_type": "execute_result"
    }
   ],
   "source": [
    "collections.Counter(f.type for f in entry.features[0].sub_features[0].sub_features)"
   ]
  },
  {
   "cell_type": "code",
   "execution_count": 35,
   "id": "46cc0c89",
   "metadata": {},
   "outputs": [
    {
     "data": {
      "text/plain": [
       "list"
      ]
     },
     "execution_count": 35,
     "metadata": {},
     "output_type": "execute_result"
    }
   ],
   "source": [
    "type(entry.features)"
   ]
  },
  {
   "cell_type": "markdown",
   "id": "22b6955b",
   "metadata": {},
   "source": [
    "## `assembly_gap`"
   ]
  },
  {
   "cell_type": "code",
   "execution_count": 14,
   "id": "1ec40033",
   "metadata": {},
   "outputs": [],
   "source": [
    "from Bio.Seq import Seq\n",
    "import Bio.SeqIO\n",
    "from typing import List, Dict, Iterable, Tuple\n",
    "import gzip\n",
    "\n",
    "# https://www.ddbj.nig.ac.jp/news/ja/2021-08-10_3.html\n",
    "fasta_path = \"./fasta_na.BOUE01000001.txt.gz\""
   ]
  },
  {
   "cell_type": "code",
   "execution_count": 6,
   "id": "324f8eeb",
   "metadata": {},
   "outputs": [
    {
     "name": "stdout",
     "output_type": "stream",
     "text": [
      "BOUE01000001|BOUE01000001.1\n"
     ]
    }
   ],
   "source": [
    "with gzip.open(fasta_path, 'rt') as f:\n",
    "    seqs = Bio.SeqIO.parse(f, \"fasta\")\n",
    "    for s in seqs:\n",
    "        print(s.id)"
   ]
  },
  {
   "cell_type": "code",
   "execution_count": 17,
   "id": "25884959",
   "metadata": {},
   "outputs": [
    {
     "ename": "AttributeError",
     "evalue": "'Seq' object has no attribute 'seq'",
     "output_type": "error",
     "traceback": [
      "\u001b[0;31m---------------------------------------------------------------------------\u001b[0m",
      "\u001b[0;31mAttributeError\u001b[0m                            Traceback (most recent call last)",
      "\u001b[0;32m/tmp/ipykernel_8126/3842232928.py\u001b[0m in \u001b[0;36m<module>\u001b[0;34m\u001b[0m\n\u001b[0;32m----> 1\u001b[0;31m \u001b[0ms\u001b[0m\u001b[0;34m.\u001b[0m\u001b[0mseq\u001b[0m\u001b[0;34m.\u001b[0m\u001b[0mseq\u001b[0m\u001b[0;34m\u001b[0m\u001b[0;34m\u001b[0m\u001b[0m\n\u001b[0m",
      "\u001b[0;31mAttributeError\u001b[0m: 'Seq' object has no attribute 'seq'"
     ]
    }
   ],
   "source": [
    "s.seq."
   ]
  },
  {
   "cell_type": "code",
   "execution_count": 27,
   "id": "d31441e5",
   "metadata": {},
   "outputs": [],
   "source": []
  },
  {
   "cell_type": "code",
   "execution_count": null,
   "id": "8801f2d3",
   "metadata": {},
   "outputs": [],
   "source": [
    "get"
   ]
  },
  {
   "cell_type": "code",
   "execution_count": 24,
   "id": "e720bd0d",
   "metadata": {},
   "outputs": [],
   "source": [
    "def get_assembly_gap(seq: Seq) -> List[Tuple[int, int]]:\n",
    "    \"\"\"\n",
    "    Get assembly_gap locations from seq.\n",
    "\n",
    "    [NOTE] A location is of format (begin, end)\n",
    "    with 1-based indexing, and inclusive in both sides.\n",
    "\n",
    "    >>> s = Seq(\"atatnnngattacanccc\")\n",
    "    [(5, 7), (15, 15)]\n",
    "    \"\"\"\n",
    "    s = str(seq)\n",
    "    patt = re.compile(\"n+\")\n",
    "    matches = patt.finditer(s)\n",
    "\n",
    "    segments = []\n",
    "    for m in matches:\n",
    "        a, b = m.span()  # 0-based, left-inclusive, right-exclusive\n",
    "        tup = (a + 1, b) # 1-based, both-inclusive\n",
    "        segments.append(tup)\n",
    "\n",
    "    return segments"
   ]
  },
  {
   "cell_type": "code",
   "execution_count": 29,
   "id": "e9b66a49",
   "metadata": {},
   "outputs": [
    {
     "data": {
      "text/plain": [
       "[(5, 7), (15, 15)]"
      ]
     },
     "execution_count": 29,
     "metadata": {},
     "output_type": "execute_result"
    }
   ],
   "source": [
    "s = Seq(\"atatnnngattacanccc\")\n",
    "get_assembly_gap(s)"
   ]
  },
  {
   "cell_type": "code",
   "execution_count": 25,
   "id": "b9bbf55b",
   "metadata": {},
   "outputs": [
    {
     "name": "stdout",
     "output_type": "stream",
     "text": [
      "267 ms ± 7.52 ms per loop (mean ± std. dev. of 7 runs, 1 loop each)\n"
     ]
    }
   ],
   "source": [
    "%timeit get_assembly_gap(s.seq)"
   ]
  },
  {
   "cell_type": "code",
   "execution_count": 26,
   "id": "bd5b5d2d",
   "metadata": {},
   "outputs": [
    {
     "data": {
      "text/plain": [
       "[(848852, 848861),\n",
       " (1037995, 1038004),\n",
       " (1268390, 1268399),\n",
       " (1320750, 1320759),\n",
       " (1326129, 1326138),\n",
       " (1368923, 1368932),\n",
       " (1369648, 1369657),\n",
       " (1407014, 1407023),\n",
       " (1547450, 1547459),\n",
       " (1608547, 1608556),\n",
       " (1845750, 1845759),\n",
       " (2092435, 2092444),\n",
       " (2093497, 2093506),\n",
       " (2222806, 2222815),\n",
       " (2226754, 2226763),\n",
       " (2229737, 2229746),\n",
       " (2337459, 2337468),\n",
       " (2361686, 2361695),\n",
       " (2372429, 2372438),\n",
       " (2373972, 2373981),\n",
       " (2376826, 2378764),\n",
       " (2434780, 2434789),\n",
       " (2446911, 2446920),\n",
       " (2725397, 2725406),\n",
       " (2732641, 2732650),\n",
       " (2823806, 2823815),\n",
       " (2901099, 2901108),\n",
       " (2902164, 2902173),\n",
       " (2905544, 2905553),\n",
       " (2909241, 2909250),\n",
       " (2915487, 2915496),\n",
       " (2917500, 2917509),\n",
       " (3133148, 3133157),\n",
       " (3545811, 3545820),\n",
       " (3618053, 3618062),\n",
       " (3626493, 3626502),\n",
       " (3632244, 3632253),\n",
       " (3636722, 3636731),\n",
       " (3721270, 3721279),\n",
       " (3726246, 3726255),\n",
       " (4021210, 4021219),\n",
       " (4022548, 4022557),\n",
       " (4024195, 4024204),\n",
       " (4052792, 4052801),\n",
       " (4110186, 4110195),\n",
       " (4110492, 4110501),\n",
       " (4114367, 4114376),\n",
       " (4115237, 4115246),\n",
       " (4116979, 4116988),\n",
       " (5550335, 5550344),\n",
       " (5568932, 5568941),\n",
       " (5635128, 5635137),\n",
       " (5650742, 5650751),\n",
       " (5654940, 5654949),\n",
       " (5748979, 5748988),\n",
       " (5993499, 5993508),\n",
       " (6003262, 6003271),\n",
       " (6516826, 6516835),\n",
       " (6519898, 6519907),\n",
       " (6520950, 6520959),\n",
       " (6522601, 6522610),\n",
       " (6524132, 6524141),\n",
       " (6530667, 6530676),\n",
       " (6532198, 6532207),\n",
       " (6555518, 6555527),\n",
       " (6559943, 6559952),\n",
       " (6789622, 6789631),\n",
       " (6838903, 6838912),\n",
       " (6860371, 6860380),\n",
       " (6864889, 6864898),\n",
       " (6869179, 6869188),\n",
       " (6871389, 6871398),\n",
       " (7077664, 7077673),\n",
       " (7088554, 7088563),\n",
       " (7432960, 7432969),\n",
       " (7442184, 7442193),\n",
       " (7457371, 7457380),\n",
       " (7464466, 7464475),\n",
       " (7466681, 7466690),\n",
       " (7501376, 7501385),\n",
       " (7615322, 7615331),\n",
       " (7626067, 7626076),\n",
       " (7653483, 7653492),\n",
       " (7664635, 7664644),\n",
       " (7673690, 7673699),\n",
       " (7675242, 7675251),\n",
       " (7688536, 7688545),\n",
       " (7690722, 7690731),\n",
       " (7713834, 7713843),\n",
       " (7777968, 7777977),\n",
       " (7792080, 7792089),\n",
       " (7792414, 7792423),\n",
       " (7793573, 7793582),\n",
       " (7854463, 7854472),\n",
       " (7857465, 7857474),\n",
       " (7910693, 7910702),\n",
       " (7947596, 7947605),\n",
       " (7959871, 7959880),\n",
       " (7968705, 7968714),\n",
       " (7977702, 7977711),\n",
       " (7981760, 7981769),\n",
       " (8030137, 8030146),\n",
       " (8199345, 8199354),\n",
       " (8208066, 8208075),\n",
       " (8271564, 8271573),\n",
       " (8280355, 8280364),\n",
       " (8492384, 8492393),\n",
       " (8522149, 8522158),\n",
       " (8982014, 8982023),\n",
       " (9021419, 9021428),\n",
       " (9280674, 9280683),\n",
       " (9395861, 9395870),\n",
       " (9526217, 9526226),\n",
       " (9962057, 9962066),\n",
       " (9973017, 9973026),\n",
       " (10214912, 10214921),\n",
       " (10324341, 10324350),\n",
       " (10328639, 10328648),\n",
       " (10334663, 10334672),\n",
       " (10337426, 10337435),\n",
       " (10702789, 10702798),\n",
       " (10705832, 10705841),\n",
       " (10708884, 10708893),\n",
       " (10713253, 10713262),\n",
       " (10843468, 10843477),\n",
       " (11149693, 11149702),\n",
       " (11152580, 11152589),\n",
       " (11381149, 11381158),\n",
       " (11438410, 11438419),\n",
       " (11449361, 11449370),\n",
       " (11466183, 11466192),\n",
       " (11531105, 11531114),\n",
       " (11532518, 11532527),\n",
       " (11559441, 11559450),\n",
       " (11573293, 11573302),\n",
       " (11735101, 11735110),\n",
       " (11952018, 11952027),\n",
       " (12052880, 12052889),\n",
       " (12054247, 12054256),\n",
       " (12055614, 12055623),\n",
       " (12116625, 12116634),\n",
       " (12256211, 12256220),\n",
       " (12373138, 12373147),\n",
       " (12375336, 12375345),\n",
       " (12447226, 12447235),\n",
       " (12449986, 12449995),\n",
       " (12450225, 12450234),\n",
       " (12468191, 12468200),\n",
       " (12475487, 12475496),\n",
       " (12529582, 12529591),\n",
       " (12532624, 12532633),\n",
       " (12538138, 12538147),\n",
       " (12879117, 12879126),\n",
       " (12888462, 12888471),\n",
       " (12889128, 12889137),\n",
       " (12891947, 12891956),\n",
       " (12910807, 12910816),\n",
       " (12911642, 12911651),\n",
       " (12937000, 12937009),\n",
       " (13061714, 13061723),\n",
       " (13066908, 13066917),\n",
       " (13070310, 13070319),\n",
       " (13072420, 13072429),\n",
       " (13284013, 13284022),\n",
       " (13289239, 13289248),\n",
       " (13313903, 13313912),\n",
       " (13320108, 13320117),\n",
       " (13325357, 13325366),\n",
       " (13345133, 13345142),\n",
       " (13348488, 13348497),\n",
       " (13351509, 13351518),\n",
       " (13358046, 13358055),\n",
       " (13358499, 13358508),\n",
       " (13476883, 13476892),\n",
       " (13732677, 13740092),\n",
       " (13986027, 13986036),\n",
       " (13998687, 13998696),\n",
       " (14041796, 14041805),\n",
       " (14047807, 14047816),\n",
       " (14070696, 14070705),\n",
       " (14074394, 14074403),\n",
       " (14075539, 14075548),\n",
       " (14127454, 14127463),\n",
       " (14133243, 14133252),\n",
       " (14135033, 14135042),\n",
       " (14135596, 14135605),\n",
       " (14138966, 14138975),\n",
       " (14140645, 14140654),\n",
       " (14162234, 14162243),\n",
       " (14368596, 14368605),\n",
       " (14409331, 14409340),\n",
       " (14541327, 14541336),\n",
       " (14545619, 14545628),\n",
       " (14557117, 14557126),\n",
       " (14565279, 14565288),\n",
       " (14570040, 14570049),\n",
       " (14571206, 14571215),\n",
       " (14576952, 14576961),\n",
       " (14606946, 14606955),\n",
       " (14741185, 14741194),\n",
       " (14747293, 14747302),\n",
       " (14756369, 14756378),\n",
       " (14760419, 14760428),\n",
       " (14763411, 14763420),\n",
       " (14765292, 14765301),\n",
       " (14786573, 14786582),\n",
       " (14792992, 14793001),\n",
       " (14798902, 14798911),\n",
       " (14824197, 14824206),\n",
       " (14837196, 14837205),\n",
       " (14844146, 14844155),\n",
       " (14846456, 14846465),\n",
       " (14848507, 14848516),\n",
       " (15097589, 15097598),\n",
       " (15112185, 15112194),\n",
       " (15115068, 15115077),\n",
       " (15117812, 15117821),\n",
       " (15123721, 15123730),\n",
       " (15124030, 15124039),\n",
       " (15207465, 15207474),\n",
       " (15380853, 15380862),\n",
       " (15438554, 15438563),\n",
       " (15758971, 15759070),\n",
       " (15804784, 15804793),\n",
       " (15809681, 15809690),\n",
       " (15826620, 15826629),\n",
       " (15830433, 15830442),\n",
       " (15835665, 15835674),\n",
       " (16000711, 16000720),\n",
       " (16002249, 16002258),\n",
       " (16005986, 16005995),\n",
       " (16056696, 16056705),\n",
       " (16141676, 16141685),\n",
       " (16322585, 16322594),\n",
       " (16323488, 16323497),\n",
       " (16346020, 16346029),\n",
       " (16429794, 16429803),\n",
       " (16431216, 16431225),\n",
       " (16434642, 16434651),\n",
       " (16440526, 16440535),\n",
       " (16444632, 16444641),\n",
       " (16449422, 16449431),\n",
       " (16485235, 16485244),\n",
       " (16487943, 16487952),\n",
       " (16550221, 16550230),\n",
       " (16579402, 16579411),\n",
       " (16581792, 16581801),\n",
       " (16689435, 16693861),\n",
       " (16722614, 16722623),\n",
       " (16823495, 16823504),\n",
       " (16913317, 16913326),\n",
       " (17194955, 17194964),\n",
       " (17201454, 17201463),\n",
       " (17210516, 17210525),\n",
       " (17218063, 17218072),\n",
       " (17223043, 17223052),\n",
       " (17242892, 17242901),\n",
       " (17252884, 17252893),\n",
       " (17285902, 17285911),\n",
       " (17372808, 17372817),\n",
       " (17403432, 17403441),\n",
       " (17404289, 17404298),\n",
       " (17525871, 17525880),\n",
       " (17585996, 17586005),\n",
       " (17596766, 17596775),\n",
       " (17657575, 17657584),\n",
       " (17660011, 17660020),\n",
       " (17660498, 17660507),\n",
       " (17661384, 17661393),\n",
       " (17662373, 17662382),\n",
       " (17662804, 17662813),\n",
       " (17663684, 17663693),\n",
       " (17665401, 17665410),\n",
       " (17671414, 17671423),\n",
       " (17697184, 17697193),\n",
       " (17702470, 17702479),\n",
       " (17774072, 17774081),\n",
       " (17784781, 17784790),\n",
       " (17787351, 17787360),\n",
       " (17849136, 17849145),\n",
       " (17912449, 17912458),\n",
       " (18046114, 18046123),\n",
       " (18242751, 18242760),\n",
       " (18414700, 18414709),\n",
       " (18461156, 18461165),\n",
       " (18465915, 18465924),\n",
       " (18468633, 18468642),\n",
       " (18474471, 18474480),\n",
       " (18587848, 18587857),\n",
       " (18618173, 18618182),\n",
       " (18706186, 18706195),\n",
       " (18721362, 18721371),\n",
       " (18724975, 18724984),\n",
       " (18726779, 18726788),\n",
       " (18736257, 18736266),\n",
       " (18739280, 18739289),\n",
       " (18743820, 18743829),\n",
       " (18746819, 18746828),\n",
       " (18957270, 18957279),\n",
       " (18957674, 18957683),\n",
       " (19080272, 19080281),\n",
       " (19085874, 19085883),\n",
       " (19086491, 19086500),\n",
       " (19095154, 19095163),\n",
       " (19098614, 19098623),\n",
       " (19175873, 19175882),\n",
       " (19178736, 19178745),\n",
       " (19181706, 19181715),\n",
       " (19471906, 19471915),\n",
       " (19505553, 19505562),\n",
       " (19581977, 19581986),\n",
       " (19588481, 19588490),\n",
       " (19657163, 19657172),\n",
       " (19660578, 19660587),\n",
       " (19742474, 19742483),\n",
       " (19779255, 19779264),\n",
       " (19783767, 19783776),\n",
       " (19790264, 19790273),\n",
       " (19849564, 19849573),\n",
       " (20057221, 20057230),\n",
       " (20344830, 20344839),\n",
       " (20396598, 20396607),\n",
       " (20398135, 20398144),\n",
       " (20402304, 20402313),\n",
       " (20405382, 20405391),\n",
       " (20405844, 20405853),\n",
       " (20540016, 20540025),\n",
       " (20540537, 20540546),\n",
       " (20542163, 20542172),\n",
       " (20583374, 20583383),\n",
       " (20587809, 20587818),\n",
       " (20588250, 20588259),\n",
       " (20592858, 20592867),\n",
       " (20602469, 20602478),\n",
       " (20604190, 20604199),\n",
       " (20615140, 20615149),\n",
       " (20616812, 20616821),\n",
       " (20617920, 20617929),\n",
       " (20628046, 20628055),\n",
       " (20635741, 20635750),\n",
       " (20638073, 20638082),\n",
       " (20645157, 20645166),\n",
       " (20645710, 20645719),\n",
       " (20646498, 20646507),\n",
       " (20648452, 20648461),\n",
       " (20649170, 20649179),\n",
       " (20653809, 20653818),\n",
       " (20655498, 20655507),\n",
       " (20751006, 20751015),\n",
       " (20754654, 20754663),\n",
       " (20769001, 20769010),\n",
       " (20787156, 20787165),\n",
       " (20788068, 20788077),\n",
       " (20791400, 20791409),\n",
       " (20796541, 20796550),\n",
       " (20799065, 20799074),\n",
       " (20877183, 20877192),\n",
       " (20885556, 20885565),\n",
       " (20891528, 20891537),\n",
       " (20894097, 20894106),\n",
       " (20899933, 20899942),\n",
       " (20975609, 20975618),\n",
       " (20983385, 20983394),\n",
       " (20991460, 20991469),\n",
       " (21063040, 21063049),\n",
       " (21281182, 21281191),\n",
       " (21387207, 21387216),\n",
       " (21416705, 21416714),\n",
       " (21422106, 21422115),\n",
       " (21425784, 21425793),\n",
       " (21818861, 21818870),\n",
       " (21822227, 21822236),\n",
       " (21837987, 21837996),\n",
       " (21848474, 21848483),\n",
       " (21851782, 21851791),\n",
       " (21854674, 21854683),\n",
       " (22041845, 22041854),\n",
       " (22054671, 22054680),\n",
       " (22074886, 22074895),\n",
       " (22166399, 22166408),\n",
       " (22180817, 22180826),\n",
       " (22508830, 22508839),\n",
       " (22528641, 22528650),\n",
       " (22528953, 22528962),\n",
       " (22533360, 22533369),\n",
       " (22571700, 22571709),\n",
       " (22586888, 22586897),\n",
       " (22602828, 22602837),\n",
       " (22607496, 22607505),\n",
       " (22611942, 22611951),\n",
       " (22615889, 22615898),\n",
       " (22688953, 22688962),\n",
       " (22780030, 22780039),\n",
       " (22896425, 22896434),\n",
       " (22898360, 22898369),\n",
       " (22899388, 22899397),\n",
       " (22929678, 22929687),\n",
       " (22931884, 22931893),\n",
       " (22946294, 22946303),\n",
       " (22946722, 22946731),\n",
       " (22956322, 22956331),\n",
       " (23135437, 23135446),\n",
       " (23341079, 23341088),\n",
       " (23344277, 23344286),\n",
       " (23386388, 23386397),\n",
       " (23400182, 23400191),\n",
       " (23504855, 23504864),\n",
       " (23542470, 23542479),\n",
       " (23697306, 23697315),\n",
       " (23714717, 23714726),\n",
       " (23723331, 23723340),\n",
       " (23977353, 23977362),\n",
       " (23983847, 23983856),\n",
       " (23988185, 23988194),\n",
       " (23993165, 23993174),\n",
       " (24005940, 24005949),\n",
       " (24006738, 24006747),\n",
       " (24013270, 24013279),\n",
       " (24020478, 24020487),\n",
       " (24292394, 24292403),\n",
       " (24700281, 24700290),\n",
       " (25004080, 25004089),\n",
       " (25136206, 25136215),\n",
       " (25143683, 25143692),\n",
       " (25147842, 25147851),\n",
       " (25148460, 25148469),\n",
       " (25148784, 25148793),\n",
       " (25149178, 25149187),\n",
       " (25160045, 25160054),\n",
       " (25160900, 25160909),\n",
       " (25747861, 25747870),\n",
       " (25989324, 25989333),\n",
       " (25990943, 25990952),\n",
       " (26165550, 26165559),\n",
       " (26182276, 26182285),\n",
       " (26231352, 26231361),\n",
       " (26233355, 26233364),\n",
       " (26235636, 26235645),\n",
       " (26237489, 26237498),\n",
       " (26237806, 26237815),\n",
       " (26248521, 26248530),\n",
       " (26264206, 26264215),\n",
       " (26278374, 26278383),\n",
       " (26528721, 26528730),\n",
       " (26880449, 26880458),\n",
       " (26884190, 26884199),\n",
       " (26885196, 26885205),\n",
       " (26885547, 26885556)]"
      ]
     },
     "execution_count": 26,
     "metadata": {},
     "output_type": "execute_result"
    }
   ],
   "source": [
    "get_assembly_gap(s.seq)"
   ]
  },
  {
   "cell_type": "code",
   "execution_count": 8,
   "id": "e2237e07",
   "metadata": {},
   "outputs": [],
   "source": [
    "import numpy as np"
   ]
  },
  {
   "cell_type": "code",
   "execution_count": 9,
   "id": "4f8ca49b",
   "metadata": {},
   "outputs": [
    {
     "data": {
      "text/plain": [
       "dtype('<U1')"
      ]
     },
     "execution_count": 9,
     "metadata": {},
     "output_type": "execute_result"
    }
   ],
   "source": [
    "# Make it faster with numpy?\n",
    "s_np = np.array(s.seq)\n",
    "s_np.dtype"
   ]
  },
  {
   "cell_type": "code",
   "execution_count": 48,
   "id": "e8d48443",
   "metadata": {},
   "outputs": [],
   "source": [
    "indices = np.where(s_np == 'n')"
   ]
  },
  {
   "cell_type": "code",
   "execution_count": null,
   "id": "01c171b9",
   "metadata": {},
   "outputs": [],
   "source": [
    "indices."
   ]
  },
  {
   "cell_type": "markdown",
   "id": "a8b0a44c",
   "metadata": {},
   "source": [
    "## YAML"
   ]
  },
  {
   "cell_type": "code",
   "execution_count": 104,
   "id": "1467256d",
   "metadata": {},
   "outputs": [],
   "source": [
    "from typing import Any, Dict, List, Tuple, Iterable, Union\n",
    "from Bio.SeqRecord import SeqRecord\n",
    "from Bio.SeqFeature import SeqFeature\n",
    "import yaml\n",
    "\n",
    "path = \"../samples/common.yaml\""
   ]
  },
  {
   "cell_type": "code",
   "execution_count": 105,
   "id": "c8da6def",
   "metadata": {},
   "outputs": [],
   "source": [
    "with open(path, \"r\") as f:\n",
    "    header_info = yaml.safe_load(f)"
   ]
  },
  {
   "cell_type": "code",
   "execution_count": 106,
   "id": "20c9e14c",
   "metadata": {},
   "outputs": [
    {
     "data": {
      "text/plain": [
       "{'SUBMITTER': {'ab_name': ['Robertson,G.R.', 'Mishima,H.'],\n",
       "  'contact': 'Hanako Mishima',\n",
       "  'email': 'mishima@ddbj.nig.ac.jp',\n",
       "  'phone': '81-55-981-6853',\n",
       "  'institute': 'National Institute of Genetics',\n",
       "  'country': 'Japan',\n",
       "  'city': 'Mishima',\n",
       "  'street': 'Yata 1111',\n",
       "  'zip': '411-8540'},\n",
       " 'REFERENCE': {'title': 'Mouse Genome Sequencing',\n",
       "  'ab_name': ['Robertson,G.R.', 'Mishima,H'],\n",
       "  'year': 2017,\n",
       "  'status': 'Unpublished'},\n",
       " 'COMMENT': {'line': ['Please visit our website URL',\n",
       "   'http://www.ddbj.nig.ac.jp/']}}"
      ]
     },
     "execution_count": 106,
     "metadata": {},
     "output_type": "execute_result"
    }
   ],
   "source": [
    "header_info"
   ]
  },
  {
   "cell_type": "code",
   "execution_count": 164,
   "id": "4fb8d24d",
   "metadata": {},
   "outputs": [],
   "source": [
    "def create_common(path) -> SeqFeature:\n",
    "    \"\"\"Create submitter feature\n",
    "\n",
    "    \"\"\"\n",
    "    with open(path, \"r\") as f:\n",
    "        header_info = yaml.safe_load(f)\n",
    "\n",
    "    features = [SeqFeature(type=key, qualifiers=xs) for (key, xs) in header_info.items()]\n",
    "    record = SeqRecord(\"\", id=\"COMMON\", features=features)\n",
    "    return record\n",
    "\n"
   ]
  },
  {
   "cell_type": "code",
   "execution_count": 165,
   "id": "71f7e9eb",
   "metadata": {},
   "outputs": [
    {
     "data": {
      "text/plain": [
       "SeqRecord(seq='', id='COMMON', name='<unknown name>', description='<unknown description>', dbxrefs=[])"
      ]
     },
     "execution_count": 165,
     "metadata": {},
     "output_type": "execute_result"
    }
   ],
   "source": [
    "common = create_common(path)\n",
    "common"
   ]
  },
  {
   "cell_type": "code",
   "execution_count": 166,
   "id": "78cb888f",
   "metadata": {
    "scrolled": true
   },
   "outputs": [
    {
     "name": "stdout",
     "output_type": "stream",
     "text": [
      "lines: 17\n",
      "COMMON\tSUBMITTER\t\tab_name\tRobertson,G.R.\n",
      "\t\t\tab_name\tMishima,H.\n",
      "\t\t\tcontact\tHanako Mishima\n",
      "\t\t\temail\tmishima@ddbj.nig.ac.jp\n",
      "\t\t\tphone\t81-55-981-6853\n",
      "\t\t\tinstitute\tNational Institute of Genetics\n",
      "\t\t\tcountry\tJapan\n",
      "\t\t\tcity\tMishima\n",
      "\t\t\tstreet\tYata 1111\n",
      "\t\t\tzip\t411-8540\n",
      "\tREFERENCE\t\ttitle\tMouse Genome Sequencing\n",
      "\t\t\tab_name\tRobertson,G.R.\n",
      "\t\t\tab_name\tMishima,H\n",
      "\t\t\tyear\t2017\n",
      "\t\t\tstatus\tUnpublished\n",
      "\tCOMMENT\t\tline\tPlease visit our website URL\n",
      "\t\t\tline\thttp://www.ddbj.nig.ac.jp/\n"
     ]
    }
   ],
   "source": [
    "s = table_to_str(to_ddbj_table(common))\n",
    "print(s)"
   ]
  },
  {
   "cell_type": "code",
   "execution_count": 110,
   "id": "77ad4a13",
   "metadata": {
    "scrolled": true
   },
   "outputs": [
    {
     "data": {
      "text/plain": [
       "[SeqFeature(None, type='SUBMITTER'),\n",
       " SeqFeature(None, type='REFERENCE'),\n",
       " SeqFeature(None, type='COMMENT')]"
      ]
     },
     "execution_count": 110,
     "metadata": {},
     "output_type": "execute_result"
    }
   ],
   "source": [
    "fs = common.features\n",
    "fs"
   ]
  },
  {
   "cell_type": "code",
   "execution_count": 115,
   "id": "0c9029ad",
   "metadata": {},
   "outputs": [
    {
     "data": {
      "text/plain": [
       "{'line': ['Please visit our website URL', 'http://www.ddbj.nig.ac.jp/']}"
      ]
     },
     "execution_count": 115,
     "metadata": {},
     "output_type": "execute_result"
    }
   ],
   "source": [
    "fs[2].qualifiers"
   ]
  },
  {
   "cell_type": "code",
   "execution_count": 127,
   "id": "079bcca2",
   "metadata": {},
   "outputs": [
    {
     "data": {
      "text/plain": [
       "False"
      ]
     },
     "execution_count": 127,
     "metadata": {},
     "output_type": "execute_result"
    }
   ],
   "source": [
    "sss = \"ddjflakdsj\"\n",
    "isinstance(sss, list)"
   ]
  },
  {
   "cell_type": "code",
   "execution_count": null,
   "id": "3f7fb08f",
   "metadata": {},
   "outputs": [],
   "source": []
  }
 ],
 "metadata": {
  "kernelspec": {
   "display_name": "Python 3 (ipykernel)",
   "language": "python",
   "name": "python3"
  },
  "language_info": {
   "codemirror_mode": {
    "name": "ipython",
    "version": 3
   },
   "file_extension": ".py",
   "mimetype": "text/x-python",
   "name": "python",
   "nbconvert_exporter": "python",
   "pygments_lexer": "ipython3",
   "version": "3.8.10"
  }
 },
 "nbformat": 4,
 "nbformat_minor": 5
}
