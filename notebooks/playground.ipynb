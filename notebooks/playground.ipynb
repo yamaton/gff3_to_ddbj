{
 "cells": [
  {
   "cell_type": "markdown",
   "id": "f7e66867",
   "metadata": {},
   "source": [
    "## Playground"
   ]
  },
  {
   "cell_type": "code",
   "execution_count": 1,
   "id": "a7713e5e",
   "metadata": {},
   "outputs": [],
   "source": [
    "# https://biopython.org/wiki/GFF_Parsing\n",
    "\n",
    "from typing import List, Dict, Iterable, Tuple\n",
    "import pprint\n",
    "import itertools as it\n",
    "import collections\n",
    "\n",
    "import Bio\n",
    "from Bio.SeqFeature import SeqFeature\n",
    "from Bio.SeqFeature import FeatureLocation, CompoundLocation\n",
    "from BCBio.GFF import GFFExaminer\n",
    "from BCBio import GFF\n",
    "\n",
    "# in_file = \"../samples/prokka.gff3\"\n",
    "# in_file = \"../samples/augustus.gff3\"\n",
    "in_file = \"../samples/maker.gff3\"\n"
   ]
  },
  {
   "cell_type": "code",
   "execution_count": 2,
   "id": "bb0ce093",
   "metadata": {},
   "outputs": [
    {
     "name": "stdout",
     "output_type": "stream",
     "text": [
      "[SeqRecord(seq=UnknownSeq(1274862, character='?'), id='4', name='<unknown name>', description='<unknown description>', dbxrefs=[])]\n"
     ]
    }
   ],
   "source": [
    "recs = list(GFF.parse(in_file))\n",
    "pprint.pp(recs)"
   ]
  },
  {
   "cell_type": "code",
   "execution_count": 3,
   "id": "ae21fd67",
   "metadata": {},
   "outputs": [
    {
     "name": "stdout",
     "output_type": "stream",
     "text": [
      "SeqRecord(seq=UnknownSeq(1274862, character='?'), id='4', name='<unknown name>', description='<unknown description>', dbxrefs=[])\n"
     ]
    }
   ],
   "source": [
    "entry = recs[0]\n",
    "pprint.pp(entry)"
   ]
  },
  {
   "cell_type": "code",
   "execution_count": 4,
   "id": "9db192cf",
   "metadata": {},
   "outputs": [
    {
     "data": {
      "text/plain": [
       "SeqFeature(FeatureLocation(ExactPosition(53460), ExactPosition(64200), strand=-1), type='gene', id='maker-4-est_gff_Cufflinks-gene-0.0')"
      ]
     },
     "execution_count": 4,
     "metadata": {},
     "output_type": "execute_result"
    }
   ],
   "source": [
    "f = entry.features[0]\n",
    "f"
   ]
  },
  {
   "cell_type": "code",
   "execution_count": 5,
   "id": "8c2f5ab0",
   "metadata": {},
   "outputs": [
    {
     "data": {
      "text/plain": [
       "{'ID': ['maker-4-est_gff_Cufflinks-gene-0.0'],\n",
       " 'Name': ['maker-4-est_gff_Cufflinks-gene-0.0'],\n",
       " 'score': ['7.864828'],\n",
       " 'source': ['maker']}"
      ]
     },
     "execution_count": 5,
     "metadata": {},
     "output_type": "execute_result"
    }
   ],
   "source": [
    "f.qualifiers"
   ]
  },
  {
   "cell_type": "markdown",
   "id": "12b10ee8",
   "metadata": {},
   "source": [
    "## Formatting `SeqRecord` as DDBJ annotation table"
   ]
  },
  {
   "cell_type": "code",
   "execution_count": 6,
   "id": "399be924",
   "metadata": {},
   "outputs": [
    {
     "data": {
      "text/plain": [
       "1"
      ]
     },
     "execution_count": 6,
     "metadata": {},
     "output_type": "execute_result"
    }
   ],
   "source": [
    "len(recs)"
   ]
  },
  {
   "cell_type": "code",
   "execution_count": 7,
   "id": "c96ddb93",
   "metadata": {},
   "outputs": [
    {
     "data": {
      "text/plain": [
       "Counter({'gene': 69})"
      ]
     },
     "execution_count": 7,
     "metadata": {},
     "output_type": "execute_result"
    }
   ],
   "source": [
    "collections.Counter(f.type for f in recs[0].features) "
   ]
  },
  {
   "cell_type": "code",
   "execution_count": 8,
   "id": "3690e6f0",
   "metadata": {},
   "outputs": [
    {
     "data": {
      "text/plain": [
       "Counter({'mRNA': 1})"
      ]
     },
     "execution_count": 8,
     "metadata": {},
     "output_type": "execute_result"
    }
   ],
   "source": [
    "a_gene = recs[0].features[0]\n",
    "collections.Counter(f.type for f in a_gene.sub_features)"
   ]
  },
  {
   "cell_type": "code",
   "execution_count": 9,
   "id": "4da09b11",
   "metadata": {},
   "outputs": [
    {
     "data": {
      "text/plain": [
       "Counter({'exon': 5, 'five_prime_UTR': 1, 'CDS': 5, 'three_prime_UTR': 1})"
      ]
     },
     "execution_count": 9,
     "metadata": {},
     "output_type": "execute_result"
    }
   ],
   "source": [
    "a_transcript = a_gene.sub_features[0]\n",
    "collections.Counter(f.type for f in a_transcript.sub_features)"
   ]
  },
  {
   "cell_type": "code",
   "execution_count": 10,
   "id": "9eaa90e3",
   "metadata": {},
   "outputs": [
    {
     "data": {
      "text/plain": [
       "[SeqFeature(FeatureLocation(ExactPosition(63539), ExactPosition(64200), strand=-1), type='exon', id='maker-4-est_gff_Cufflinks-gene-0.0-mRNA-1:exon:4'),\n",
       " SeqFeature(FeatureLocation(ExactPosition(57141), ExactPosition(61911), strand=-1), type='exon', id='maker-4-est_gff_Cufflinks-gene-0.0-mRNA-1:exon:3'),\n",
       " SeqFeature(FeatureLocation(ExactPosition(56499), ExactPosition(57083), strand=-1), type='exon', id='maker-4-est_gff_Cufflinks-gene-0.0-mRNA-1:exon:2'),\n",
       " SeqFeature(FeatureLocation(ExactPosition(53816), ExactPosition(53999), strand=-1), type='exon', id='maker-4-est_gff_Cufflinks-gene-0.0-mRNA-1:exon:1'),\n",
       " SeqFeature(FeatureLocation(ExactPosition(53460), ExactPosition(53751), strand=-1), type='exon', id='maker-4-est_gff_Cufflinks-gene-0.0-mRNA-1:exon:0'),\n",
       " SeqFeature(FeatureLocation(ExactPosition(64050), ExactPosition(64200), strand=-1), type='five_prime_UTR', id='maker-4-est_gff_Cufflinks-gene-0.0-mRNA-1:five_prime_utr'),\n",
       " SeqFeature(FeatureLocation(ExactPosition(63539), ExactPosition(64050), strand=-1), type='CDS', id='maker-4-est_gff_Cufflinks-gene-0.0-mRNA-1:cds'),\n",
       " SeqFeature(FeatureLocation(ExactPosition(57141), ExactPosition(61911), strand=-1), type='CDS', id='maker-4-est_gff_Cufflinks-gene-0.0-mRNA-1:cds'),\n",
       " SeqFeature(FeatureLocation(ExactPosition(56499), ExactPosition(57083), strand=-1), type='CDS', id='maker-4-est_gff_Cufflinks-gene-0.0-mRNA-1:cds'),\n",
       " SeqFeature(FeatureLocation(ExactPosition(53816), ExactPosition(53999), strand=-1), type='CDS', id='maker-4-est_gff_Cufflinks-gene-0.0-mRNA-1:cds'),\n",
       " SeqFeature(FeatureLocation(ExactPosition(53643), ExactPosition(53751), strand=-1), type='CDS', id='maker-4-est_gff_Cufflinks-gene-0.0-mRNA-1:cds'),\n",
       " SeqFeature(FeatureLocation(ExactPosition(53460), ExactPosition(53643), strand=-1), type='three_prime_UTR', id='maker-4-est_gff_Cufflinks-gene-0.0-mRNA-1:three_prime_utr')]"
      ]
     },
     "execution_count": 10,
     "metadata": {},
     "output_type": "execute_result"
    }
   ],
   "source": [
    "a_transcript.sub_features"
   ]
  },
  {
   "cell_type": "code",
   "execution_count": 11,
   "id": "603c191a",
   "metadata": {},
   "outputs": [
    {
     "data": {
      "text/plain": [
       "SeqFeature(CompoundLocation([FeatureLocation(ExactPosition(63539), ExactPosition(64050), strand=-1), FeatureLocation(ExactPosition(57141), ExactPosition(61911), strand=-1), FeatureLocation(ExactPosition(56499), ExactPosition(57083), strand=-1), FeatureLocation(ExactPosition(53816), ExactPosition(53999), strand=-1), FeatureLocation(ExactPosition(53643), ExactPosition(53751), strand=-1)], 'join'), type='CDS', location_operator='join')"
      ]
     },
     "execution_count": 11,
     "metadata": {},
     "output_type": "execute_result"
    }
   ],
   "source": [
    "target_type = \"CDS\"\n",
    "target_features = [f for f in recs[0].features[0].sub_features[0].sub_features if f.type == target_type]\n",
    "locs = [f.location for f in target_features]\n",
    "compound_loc = CompoundLocation(locs)\n",
    "feature_packed = SeqFeature(compound_loc, target_type)\n",
    "feature_packed"
   ]
  },
  {
   "cell_type": "code",
   "execution_count": 12,
   "id": "b3f601c6",
   "metadata": {},
   "outputs": [
    {
     "name": "stdout",
     "output_type": "stream",
     "text": [
      "join{[63539:64050](-), [57141:61911](-), [56499:57083](-), [53816:53999](-), [53643:53751](-)}\n"
     ]
    }
   ],
   "source": [
    "print(compound_loc)"
   ]
  },
  {
   "cell_type": "code",
   "execution_count": 13,
   "id": "3594ba66",
   "metadata": {},
   "outputs": [
    {
     "data": {
      "text/plain": [
       "{'ID': ['maker-4-est_gff_Cufflinks-gene-0.0-mRNA-1:cds'],\n",
       " 'Parent': ['maker-4-est_gff_Cufflinks-gene-0.0-mRNA-1'],\n",
       " 'source': ['maker'],\n",
       " 'phase': ['2']}"
      ]
     },
     "execution_count": 13,
     "metadata": {},
     "output_type": "execute_result"
    }
   ],
   "source": [
    "target_features[2].qualifiers"
   ]
  },
  {
   "cell_type": "code",
   "execution_count": 14,
   "id": "02ab8a7d",
   "metadata": {},
   "outputs": [],
   "source": [
    "def table_to_str(table: List[List[str]]) -> str:\n",
    "    return \"\\n\".join(\"\\t\".join(items) for items in table)"
   ]
  },
  {
   "cell_type": "code",
   "execution_count": 15,
   "id": "a896995e",
   "metadata": {},
   "outputs": [],
   "source": [
    "def format_location(loc: Bio.SeqFeature.FeatureLocation) -> str:\n",
    "    \"\"\"Format Bio.SeqFeature.FeatureLocation\n",
    "    \n",
    "    \"\"\"\n",
    "    return \"{start}..{end}\".format(start=loc.start, end=loc.end)"
   ]
  },
  {
   "cell_type": "code",
   "execution_count": 16,
   "id": "f97afb76",
   "metadata": {},
   "outputs": [],
   "source": [
    "def to_ddbj_table(rec: Bio.SeqRecord):\n",
    "    \"\"\"Convert GFF.SeqRecord into DDBJ annotation table format\n",
    "    \n",
    "    DDBJ annotation table format is TSV (tab-separated variables) with 5 columns\n",
    "        - Column 1: Sequence ID\n",
    "        - Column 2: Feature Key\n",
    "        - Column 3: Location\n",
    "        - Column 4: Qualifier Key\n",
    "        - Column 5: Qualifier Value\n",
    "    \n",
    "    Many entries are blank.\n",
    "    \n",
    "    Example:\n",
    "    [\n",
    "        [\"CLN01\", \"source\", \"1..12297\"                         , \"organism\"   ,  \"Mus musculus\"  ],\n",
    "        [       ,         ,                                    , \"mol_type\"   ,  \"genomic DNA\"   ],\n",
    "        [       ,         ,                                    , \"clone\"      ,  \"PC0110\"        ],      \n",
    "        [       ,         ,                                    , \"chromosome\" ,  \"8\"             ],      \n",
    "        [       ,  \"CDS\"  , \"join(<1..456,609..879,1070..1213)\", \"product\"    ,  \"protein kinase\"],\n",
    "        [       ,         ,                                    , \"codon_start\",  \"2\"             ],\n",
    "    ]\n",
    "\n",
    "    \"\"\"\n",
    "    lines = sum(\n",
    "        len(vals)\n",
    "        for feature in rec.features \n",
    "        for vals in feature.qualifiers.values()\n",
    "    )\n",
    "    print(\"lines: {}\".format(lines))\n",
    "    table = [[\"\" for _ in range(5)] for _ in range(lines)]\n",
    "    \n",
    "    idx = 0\n",
    "    for (feature_idx, feature) in enumerate(rec.features):\n",
    "        for (qualifier_idx, (qualifier_key, values)) in enumerate(feature.qualifiers.items()):\n",
    "            for qualifier_value in values:\n",
    "                if qualifier_idx == 0:\n",
    "                    table[idx][1] = feature.type\n",
    "                    if feature.location is not None:\n",
    "                        table[idx][2] = format_location(feature.location)\n",
    "                table[idx][3] = qualifier_key\n",
    "                table[idx][4] = qualifier_value\n",
    "                idx += 1\n",
    "    return table"
   ]
  },
  {
   "cell_type": "code",
   "execution_count": 17,
   "id": "1b042470",
   "metadata": {},
   "outputs": [
    {
     "name": "stdout",
     "output_type": "stream",
     "text": [
      "lines: 276\n",
      "\tgene\t53460..64200\tID\tmaker-4-est_gff_Cufflinks-gene-0.0\n",
      "\t\t\tName\tmaker-4-est_gff_Cufflinks-gene-0.0\n",
      "\t\t\tscore\t7.864828\n",
      "\t\t\tsource\tmaker\n",
      "\tgene\t90013..128029\tID\tmaker-4-est_gff_Cufflinks-gene-1.0\n",
      "\t\t\tName\tmaker-4-est_gff_Cufflinks-gene-1.0\n",
      "\t\t\tscore\t6.732889\n",
      "\t\t\tsource\tmaker\n",
      "\tgene\t152875..163632\tID\tmaker-4-est_gff_Cufflinks-gene-1.1\n",
      "\t\t\tName\tmaker-4-est_gff_Cufflinks-gene-1.1\n",
      "\t\t\tscore\t16.569730\n",
      "\t\t\tsource\tmaker\n",
      "\tgene\t68503..76929\tID\tmaker-4-est_gff_Cufflinks-gene-1.2\n",
      "\t\t\tName\tmaker-4-est_gff_Cufflinks-gene-1.2\n",
      "\t\t\tscore\t20.410109\n",
      "\t\t\tsource\tmaker\n",
      "\tgene\t86132..87863\tID\tmaker-4-est_gff_Cufflinks-gene-1.3\n",
      "\t\t\tName\tmaker-4-est_gff_Cufflinks-gene-1.3\n",
      "\t\t\tscore\t2132.029560\n",
      "\t\t\tsource\tmaker\n",
      "\tgene\t135602..150357\tID\tmaker-4-est_gff_Cufflinks-gene-1.4\n",
      "\t\t\tName\tmaker-4-est_gff_Cufflinks-gene-1.4\n",
      "\t\t\tscore\t5.745459\n",
      "\t\t\tsource\tmaker\n",
      "\tgene\t230940..235351\tID\tmaker-4-est_gff_Cufflinks-gene-2.0\n",
      "\t\t\tName\tmaker-4-est_gff_Cufflinks-gene-2.0\n",
      "\t\t\tscore\t39.430468\n",
      "\t\t\tsource\tmaker\n",
      "\tgene\t248672..250746\tID\tmaker-4-est_gff_Cufflinks-gene-2.1\n",
      "\t\t\tName\tmaker-4-est_gff_Cufflinks-gene-2.1\n",
      "\t\t\tscore\t4.645418\n",
      "\t\t\tsource\tmaker\n",
      "\tgene\t251493..266521\tID\tmaker-4-est_gff_Cufflinks-gene-2.2\n",
      "\t\t\tName\tmaker-4-est_gff_Cufflinks-gene-2.2\n",
      "\t\t\tscore\t14.747281\n",
      "\t\t\tsource\tmaker\n",
      "\tgene\t175392..177373\tID\tmaker-4-est_gff_Cufflinks-gene-2.3\n",
      "\t\t\tName\tmaker-4-est_gff_Cufflinks-gene-2.3\n",
      "\t\t\tscore\t102.790301\n",
      "\t\t\tsource\tmaker\n",
      "\tgene\t179121..181592\tID\tmaker-4-est_gff_Cufflinks-gene-2.4\n",
      "\t\t\tName\tmaker-4-est_gff_Cufflinks-gene-2.4\n",
      "\t\t\tscore\t4.200902\n",
      "\t\t\tsource\tmaker\n",
      "\tgene\t192254..195746\tID\tmaker-4-est_gff_Cufflinks-gene-2.5\n",
      "\t\t\tName\tmaker-4-est_gff_Cufflinks-gene-2.5\n",
      "\t\t\tscore\t7.322390\n",
      "\t\t\tsource\tmaker\n",
      "\tgene\t198561..199989\tID\tmaker-4-est_gff_Cufflinks-gene-2.6\n",
      "\t\t\tName\tmaker-4-est_gff_Cufflinks-gene-2.6\n",
      "\t\t\tscore\t7.874742\n",
      "\t\t\tsource\tmaker\n",
      "\tgene\t205007..214363\tID\tmaker-4-est_gff_Cufflinks-gene-2.7\n",
      "\t\t\tName\tmaker-4-est_gff_Cufflinks-gene-2.7\n",
      "\t\t\tscore\t22.111421\n",
      "\t\t\tsource\tmaker\n",
      "\tgene\t218396..224979\tID\tmaker-4-est_gff_Cufflinks-gene-2.8\n",
      "\t\t\tName\tmaker-4-est_gff_Cufflinks-gene-2.8\n",
      "\t\t\tscore\t24.108328\n",
      "\t\t\tsource\tmaker\n",
      "\tgene\t235619..246974\tID\tmaker-4-est_gff_Cufflinks-gene-2.9\n",
      "\t\t\tName\tmaker-4-est_gff_Cufflinks-gene-2.9\n",
      "\t\t\tscore\t7.940946\n",
      "\t\t\tsource\tmaker\n",
      "\tgene\t277192..285576\tID\tmaker-4-est_gff_Cufflinks-gene-3.0\n",
      "\t\t\tName\tmaker-4-est_gff_Cufflinks-gene-3.0\n",
      "\t\t\tscore\t4.884038\n",
      "\t\t\tsource\tmaker\n",
      "\tgene\t328731..330806\tID\tmaker-4-est_gff_Cufflinks-gene-3.1\n",
      "\t\t\tName\tmaker-4-est_gff_Cufflinks-gene-3.1\n",
      "\t\t\tscore\t15.891017\n",
      "\t\t\tsource\tmaker\n",
      "\tgene\t270232..273635\tID\tmaker-4-est_gff_Cufflinks-gene-3.2\n",
      "\t\t\tName\tmaker-4-est_gff_Cufflinks-gene-3.2\n",
      "\t\t\tscore\t5.206707\n",
      "\t\t\tsource\tmaker\n",
      "\tgene\t291096..293023\tID\tmaker-4-est_gff_Cufflinks-gene-3.3\n",
      "\t\t\tName\tmaker-4-est_gff_Cufflinks-gene-3.3\n",
      "\t\t\tscore\t3.522070\n",
      "\t\t\tsource\tmaker\n",
      "\tgene\t333460..334513\tID\tmaker-4-est_gff_Cufflinks-gene-3.4\n",
      "\t\t\tName\tmaker-4-est_gff_Cufflinks-gene-3.4\n",
      "\t\t\tscore\t8.375010\n",
      "\t\t\tsource\tmaker\n",
      "\tgene\t381237..393031\tID\tmaker-4-est_gff_Cufflinks-gene-4.0\n",
      "\t\t\tName\tmaker-4-est_gff_Cufflinks-gene-4.0\n",
      "\t\t\tscore\t7.645789\n",
      "\t\t\tsource\tmaker\n",
      "\tgene\t349652..379278\tID\tmaker-4-est_gff_Cufflinks-gene-4.1\n",
      "\t\t\tName\tmaker-4-est_gff_Cufflinks-gene-4.1\n",
      "\t\t\tscore\t41.722502\n",
      "\t\t\tsource\tmaker\n",
      "\tgene\t396530..414714\tID\tmaker-4-est_gff_Cufflinks-gene-4.2\n",
      "\t\t\tName\tmaker-4-est_gff_Cufflinks-gene-4.2\n",
      "\t\t\tscore\t4.115880\n",
      "\t\t\tsource\tmaker\n",
      "\tgene\t457795..464500\tID\tmaker-4-est_gff_Cufflinks-gene-4.3\n",
      "\t\t\tName\tmaker-4-est_gff_Cufflinks-gene-4.3\n",
      "\t\t\tscore\t22.040664\n",
      "\t\t\tsource\tmaker\n",
      "\tgene\t466488..473795\tID\tmaker-4-est_gff_Cufflinks-gene-5.0\n",
      "\t\t\tName\tmaker-4-est_gff_Cufflinks-gene-5.0\n",
      "\t\t\tscore\t30.377660\n",
      "\t\t\tsource\tmaker\n",
      "\tgene\t522481..559294\tID\tmaker-4-est_gff_Cufflinks-gene-5.1\n",
      "\t\t\tName\tmaker-4-est_gff_Cufflinks-gene-5.1\n",
      "\t\t\tscore\t3.999567\n",
      "\t\t\tsource\tmaker\n",
      "\tgene\t480539..487434\tID\tmaker-4-est_gff_Cufflinks-gene-5.2\n",
      "\t\t\tName\tmaker-4-est_gff_Cufflinks-gene-5.2\n",
      "\t\t\tscore\t21.538073\n",
      "\t\t\tsource\tmaker\n",
      "\tgene\t492375..505868\tID\tmaker-4-est_gff_Cufflinks-gene-5.3\n",
      "\t\t\tName\tmaker-4-est_gff_Cufflinks-gene-5.3\n",
      "\t\t\tscore\t6.547508\n",
      "\t\t\tsource\tmaker\n",
      "\tgene\t578627..586515\tID\tmaker-4-est_gff_Cufflinks-gene-6.0\n",
      "\t\t\tName\tmaker-4-est_gff_Cufflinks-gene-6.0\n",
      "\t\t\tscore\t13.675002\n",
      "\t\t\tsource\tmaker\n",
      "\tgene\t592410..598915\tID\tmaker-4-est_gff_Cufflinks-gene-6.1\n",
      "\t\t\tName\tmaker-4-est_gff_Cufflinks-gene-6.1\n",
      "\t\t\tscore\t23.130083\n",
      "\t\t\tsource\tmaker\n",
      "\tgene\t631375..640972\tID\tmaker-4-est_gff_Cufflinks-gene-6.2\n",
      "\t\t\tName\tmaker-4-est_gff_Cufflinks-gene-6.2\n",
      "\t\t\tscore\t12.604912\n",
      "\t\t\tsource\tmaker\n",
      "\tgene\t650342..655236\tID\tmaker-4-est_gff_Cufflinks-gene-6.3\n",
      "\t\t\tName\tmaker-4-est_gff_Cufflinks-gene-6.3\n",
      "\t\t\tscore\t10.654461\n",
      "\t\t\tsource\tmaker\n",
      "\tgene\t566000..578528\tID\tmaker-4-est_gff_Cufflinks-gene-6.4\n",
      "\t\t\tName\tmaker-4-est_gff_Cufflinks-gene-6.4\n",
      "\t\t\tscore\t24.622296\n",
      "\t\t\tsource\tmaker\n",
      "\tgene\t588911..592204\tID\tmaker-4-est_gff_Cufflinks-gene-6.5\n",
      "\t\t\tName\tmaker-4-est_gff_Cufflinks-gene-6.5\n",
      "\t\t\tscore\t69.647319\n",
      "\t\t\tsource\tmaker\n",
      "\tgene\t621342..627388\tID\tmaker-4-est_gff_Cufflinks-gene-6.6\n",
      "\t\t\tName\tmaker-4-est_gff_Cufflinks-gene-6.6\n",
      "\t\t\tscore\t4.060546\n",
      "\t\t\tsource\tmaker\n",
      "\tgene\t643985..646634\tID\tmaker-4-est_gff_Cufflinks-gene-6.7\n",
      "\t\t\tName\tmaker-4-est_gff_Cufflinks-gene-6.7\n",
      "\t\t\tscore\t17.999811\n",
      "\t\t\tsource\tmaker\n",
      "\tgene\t684292..690500\tID\tmaker-4-est_gff_Cufflinks-gene-7.0\n",
      "\t\t\tName\tmaker-4-est_gff_Cufflinks-gene-7.0\n",
      "\t\t\tscore\t22.772676\n",
      "\t\t\tsource\tmaker\n",
      "\tgene\t691789..707851\tID\tmaker-4-est_gff_Cufflinks-gene-7.1\n",
      "\t\t\tName\tmaker-4-est_gff_Cufflinks-gene-7.1\n",
      "\t\t\tscore\t6.478524\n",
      "\t\t\tsource\tmaker\n",
      "\tgene\t731565..738548\tID\tmaker-4-est_gff_Cufflinks-gene-7.2\n",
      "\t\t\tName\tmaker-4-est_gff_Cufflinks-gene-7.2\n",
      "\t\t\tscore\t2.300636\n",
      "\t\t\tsource\tmaker\n",
      "\tgene\t670819..680610\tID\tmaker-4-est_gff_Cufflinks-gene-7.3\n",
      "\t\t\tName\tmaker-4-est_gff_Cufflinks-gene-7.3\n",
      "\t\t\tscore\t46.517549\n",
      "\t\t\tsource\tmaker\n",
      "\tgene\t712619..716425\tID\tmaker-4-est_gff_Cufflinks-gene-7.4\n",
      "\t\t\tName\tmaker-4-est_gff_Cufflinks-gene-7.4\n",
      "\t\t\tscore\t6.778729\n",
      "\t\t\tsource\tmaker\n",
      "\tgene\t760601..796672\tID\tmaker-4-est_gff_Cufflinks-gene-8.0\n",
      "\t\t\tName\tmaker-4-est_gff_Cufflinks-gene-8.0\n",
      "\t\t\tscore\t12.389851\n",
      "\t\t\tsource\tmaker\n",
      "\tgene\t799387..809622\tID\tmaker-4-est_gff_Cufflinks-gene-8.1\n",
      "\t\t\tName\tmaker-4-est_gff_Cufflinks-gene-8.1\n",
      "\t\t\tscore\t8.381466\n",
      "\t\t\tsource\tmaker\n",
      "\tgene\t821758..844213\tID\tmaker-4-est_gff_Cufflinks-gene-8.2\n",
      "\t\t\tName\tmaker-4-est_gff_Cufflinks-gene-8.2\n",
      "\t\t\tscore\t0.766957\n",
      "\t\t\tsource\tmaker\n",
      "\tgene\t1010749..1027162\tID\tmaker-4-est_gff_Cufflinks-gene-10.0\n",
      "\t\t\tName\tmaker-4-est_gff_Cufflinks-gene-10.0\n",
      "\t\t\tscore\t7.857641\n",
      "\t\t\tsource\tmaker\n",
      "\tgene\t1052220..1055114\tID\tmaker-4-est_gff_Cufflinks-gene-10.1\n",
      "\t\t\tName\tmaker-4-est_gff_Cufflinks-gene-10.1\n",
      "\t\t\tscore\t606.626674\n",
      "\t\t\tsource\tmaker\n",
      "\tgene\t972326..980172\tID\tmaker-4-est_gff_Cufflinks-gene-10.2\n",
      "\t\t\tName\tmaker-4-est_gff_Cufflinks-gene-10.2\n",
      "\t\t\tscore\t10.978575\n",
      "\t\t\tsource\tmaker\n",
      "\tgene\t1034273..1047643\tID\tmaker-4-est_gff_Cufflinks-gene-10.3\n",
      "\t\t\tName\tmaker-4-est_gff_Cufflinks-gene-10.3\n",
      "\t\t\tscore\t19.672496\n",
      "\t\t\tsource\tmaker\n",
      "\tgene\t876062..887627\tID\tmaker-4-est_gff_Cufflinks-gene-9.0\n",
      "\t\t\tName\tmaker-4-est_gff_Cufflinks-gene-9.0\n",
      "\t\t\tscore\t29.564938\n",
      "\t\t\tsource\tmaker\n",
      "\tgene\t891968..922018\tID\tmaker-4-est_gff_Cufflinks-gene-9.1\n",
      "\t\t\tName\tmaker-4-est_gff_Cufflinks-gene-9.1\n",
      "\t\t\tscore\t3.945719\n",
      "\t\t\tsource\tmaker\n",
      "\tgene\t922756..925151\tID\tmaker-4-est_gff_Cufflinks-gene-9.2\n",
      "\t\t\tName\tmaker-4-est_gff_Cufflinks-gene-9.2\n",
      "\t\t\tscore\t3.712005\n",
      "\t\t\tsource\tmaker\n",
      "\tgene\t936261..951225\tID\tmaker-4-est_gff_Cufflinks-gene-9.3\n",
      "\t\t\tName\tmaker-4-est_gff_Cufflinks-gene-9.3\n",
      "\t\t\tscore\t65.017203\n",
      "\t\t\tsource\tmaker\n",
      "\tgene\t1085371..1096757\tID\tmaker-4-est_gff_Cufflinks-gene-11.0\n",
      "\t\t\tName\tmaker-4-est_gff_Cufflinks-gene-11.0\n",
      "\t\t\tscore\t416.778557\n",
      "\t\t\tsource\tmaker\n",
      "\tgene\t1144812..1145683\tID\tmaker-4-est_gff_Cufflinks-gene-11.1\n",
      "\t\t\tName\tmaker-4-est_gff_Cufflinks-gene-11.1\n",
      "\t\t\tscore\t116.020688\n",
      "\t\t\tsource\tmaker\n",
      "\tgene\t1147492..1156515\tID\tmaker-4-est_gff_Cufflinks-gene-11.2\n",
      "\t\t\tName\tmaker-4-est_gff_Cufflinks-gene-11.2\n",
      "\t\t\tscore\t23.997139\n",
      "\t\t\tsource\tmaker\n",
      "\tgene\t1057793..1074547\tID\tmaker-4-est_gff_Cufflinks-gene-11.3\n",
      "\t\t\tName\tmaker-4-est_gff_Cufflinks-gene-11.3\n",
      "\t\t\tscore\t14.890840\n",
      "\t\t\tsource\tmaker\n",
      "\tgene\t1078075..1081443\tID\tmaker-4-est_gff_Cufflinks-gene-11.4\n",
      "\t\t\tName\tmaker-4-est_gff_Cufflinks-gene-11.4\n",
      "\t\t\tscore\t18.095405\n",
      "\t\t\tsource\tmaker\n",
      "\tgene\t1101819..1103638\tID\tmaker-4-est_gff_Cufflinks-gene-11.5\n",
      "\t\t\tName\tmaker-4-est_gff_Cufflinks-gene-11.5\n",
      "\t\t\tscore\t2.345474\n",
      "\t\t\tsource\tmaker\n",
      "\tgene\t1136361..1143957\tID\tmaker-4-est_gff_Cufflinks-gene-11.6\n",
      "\t\t\tName\tmaker-4-est_gff_Cufflinks-gene-11.6\n",
      "\t\t\tscore\t34.747294\n",
      "\t\t\tsource\tmaker\n",
      "\tgene\t1161337..1164649\tID\tmaker-4-est_gff_Cufflinks-gene-11.7\n",
      "\t\t\tName\tmaker-4-est_gff_Cufflinks-gene-11.7\n",
      "\t\t\tscore\t5.556475\n",
      "\t\t\tsource\tmaker\n",
      "\tgene\t1208177..1213081\tID\tmaker-4-est_gff_Cufflinks-gene-12.0\n",
      "\t\t\tName\tmaker-4-est_gff_Cufflinks-gene-12.0\n",
      "\t\t\tscore\t25.637434\n",
      "\t\t\tsource\tmaker\n",
      "\tgene\t1223581..1225603\tID\tmaker-4-est_gff_Cufflinks-gene-12.1\n",
      "\t\t\tName\tmaker-4-est_gff_Cufflinks-gene-12.1\n",
      "\t\t\tscore\t11.953319\n",
      "\t\t\tsource\tmaker\n",
      "\tgene\t1235793..1247226\tID\tmaker-4-est_gff_Cufflinks-gene-12.2\n",
      "\t\t\tName\tmaker-4-est_gff_Cufflinks-gene-12.2\n",
      "\t\t\tscore\t6.170591\n",
      "\t\t\tsource\tmaker\n",
      "\tgene\t1247331..1249344\tID\tmaker-4-est_gff_Cufflinks-gene-12.3\n",
      "\t\t\tName\tmaker-4-est_gff_Cufflinks-gene-12.3\n",
      "\t\t\tscore\t4.524516\n",
      "\t\t\tsource\tmaker\n",
      "\tgene\t1249397..1274862\tID\tmaker-4-est_gff_Cufflinks-gene-12.4\n",
      "\t\t\tName\tmaker-4-est_gff_Cufflinks-gene-12.4\n",
      "\t\t\tscore\t3.894090\n",
      "\t\t\tsource\tmaker\n",
      "\tgene\t1193405..1195633\tID\tmaker-4-est_gff_Cufflinks-gene-12.5\n",
      "\t\t\tName\tmaker-4-est_gff_Cufflinks-gene-12.5\n",
      "\t\t\tscore\t22.671003\n",
      "\t\t\tsource\tmaker\n",
      "\tgene\t1213069..1217101\tID\tmaker-4-est_gff_Cufflinks-gene-12.6\n",
      "\t\t\tName\tmaker-4-est_gff_Cufflinks-gene-12.6\n",
      "\t\t\tscore\t55.315775\n",
      "\t\t\tsource\tmaker\n",
      "\tgene\t1229576..1234143\tID\tmaker-4-est_gff_Cufflinks-gene-12.7\n",
      "\t\t\tName\tmaker-4-est_gff_Cufflinks-gene-12.7\n",
      "\t\t\tscore\t26.099614\n",
      "\t\t\tsource\tmaker\n"
     ]
    }
   ],
   "source": [
    "tbl = to_ddbj_table(entry)\n",
    "s = table_to_str(tbl)\n",
    "print(s)"
   ]
  },
  {
   "cell_type": "code",
   "execution_count": 18,
   "id": "ce12d766",
   "metadata": {},
   "outputs": [],
   "source": [
    "def get_containment_relation(features: Iterable[SeqFeature]) -> Dict[SeqFeature, List[SeqFeature]]:\n",
    "    \"\"\"Find containment relation and return dictionary such that\n",
    "    a key contains its value as sub-segments.\n",
    "    \"\"\"\n",
    "    res = collections.defaultdict(list)\n",
    "    for f1, f2 in it.combinations(features, 2):\n",
    "        start1 = f1.location.start\n",
    "        end1 = f1.location.end\n",
    "        start2 = f2.location.start\n",
    "        end2 = f2.location.end\n",
    "        if start1 <= start2 and end2 <= end1:\n",
    "            res[f1].append(f2)\n",
    "        elif start2 <= start1 and end1 <= end2:\n",
    "            res[f2].append(f1)\n",
    "        elif end1 <= start2 or end2 <= start1:\n",
    "            # note that biopython's segment is [start, end) \n",
    "            pass\n",
    "        else:\n",
    "            loc1 = str(f1.location)\n",
    "            loc2 = str(f2.location)\n",
    "            print(\"Intersection (0-based): {}:{} and {}:{}\".format(f1.type, loc1, f2.type, loc2))\n",
    "    return res\n",
    "\n",
    "def group_by_id(features: Iterable[SeqFeature]) -> Dict[Tuple[str, str], List[SeqFeature]]:\n",
    "    \"\"\"Group segments by (ID, featureKey)\n",
    "    \"\"\"\n",
    "    res = collections.defaultdict(list)\n",
    "    for feature in features:\n",
    "        tup = (feature.id, feature.type)\n",
    "        res[tup].append(feature)\n",
    "    return res"
   ]
  },
  {
   "cell_type": "code",
   "execution_count": 19,
   "id": "cd7abd24",
   "metadata": {},
   "outputs": [
    {
     "name": "stdout",
     "output_type": "stream",
     "text": [
      "Intersection (0-based): gene:[1208177:1213081](+) and gene:[1213069:1217101](-)\n"
     ]
    },
    {
     "data": {
      "text/plain": [
       "defaultdict(list, {})"
      ]
     },
     "execution_count": 19,
     "metadata": {},
     "output_type": "execute_result"
    }
   ],
   "source": [
    "# Containment and intersection of segments do not work as different CDS can overlap anyway\n",
    "get_containment_relation(entry.features)"
   ]
  },
  {
   "cell_type": "code",
   "execution_count": 20,
   "id": "0c7116fd",
   "metadata": {},
   "outputs": [
    {
     "name": "stdout",
     "output_type": "stream",
     "text": [
      "('maker-4-est_gff_Cufflinks-gene-0.0', 'gene'): 1\n",
      "('maker-4-est_gff_Cufflinks-gene-1.0', 'gene'): 1\n",
      "('maker-4-est_gff_Cufflinks-gene-1.1', 'gene'): 1\n",
      "('maker-4-est_gff_Cufflinks-gene-1.2', 'gene'): 1\n",
      "('maker-4-est_gff_Cufflinks-gene-1.3', 'gene'): 1\n",
      "('maker-4-est_gff_Cufflinks-gene-1.4', 'gene'): 1\n",
      "('maker-4-est_gff_Cufflinks-gene-2.0', 'gene'): 1\n",
      "('maker-4-est_gff_Cufflinks-gene-2.1', 'gene'): 1\n",
      "('maker-4-est_gff_Cufflinks-gene-2.2', 'gene'): 1\n",
      "('maker-4-est_gff_Cufflinks-gene-2.3', 'gene'): 1\n",
      "('maker-4-est_gff_Cufflinks-gene-2.4', 'gene'): 1\n",
      "('maker-4-est_gff_Cufflinks-gene-2.5', 'gene'): 1\n",
      "('maker-4-est_gff_Cufflinks-gene-2.6', 'gene'): 1\n",
      "('maker-4-est_gff_Cufflinks-gene-2.7', 'gene'): 1\n",
      "('maker-4-est_gff_Cufflinks-gene-2.8', 'gene'): 1\n",
      "('maker-4-est_gff_Cufflinks-gene-2.9', 'gene'): 1\n",
      "('maker-4-est_gff_Cufflinks-gene-3.0', 'gene'): 1\n",
      "('maker-4-est_gff_Cufflinks-gene-3.1', 'gene'): 1\n",
      "('maker-4-est_gff_Cufflinks-gene-3.2', 'gene'): 1\n",
      "('maker-4-est_gff_Cufflinks-gene-3.3', 'gene'): 1\n",
      "('maker-4-est_gff_Cufflinks-gene-3.4', 'gene'): 1\n",
      "('maker-4-est_gff_Cufflinks-gene-4.0', 'gene'): 1\n",
      "('maker-4-est_gff_Cufflinks-gene-4.1', 'gene'): 1\n",
      "('maker-4-est_gff_Cufflinks-gene-4.2', 'gene'): 1\n",
      "('maker-4-est_gff_Cufflinks-gene-4.3', 'gene'): 1\n",
      "('maker-4-est_gff_Cufflinks-gene-5.0', 'gene'): 1\n",
      "('maker-4-est_gff_Cufflinks-gene-5.1', 'gene'): 1\n",
      "('maker-4-est_gff_Cufflinks-gene-5.2', 'gene'): 1\n",
      "('maker-4-est_gff_Cufflinks-gene-5.3', 'gene'): 1\n",
      "('maker-4-est_gff_Cufflinks-gene-6.0', 'gene'): 1\n",
      "('maker-4-est_gff_Cufflinks-gene-6.1', 'gene'): 1\n",
      "('maker-4-est_gff_Cufflinks-gene-6.2', 'gene'): 1\n",
      "('maker-4-est_gff_Cufflinks-gene-6.3', 'gene'): 1\n",
      "('maker-4-est_gff_Cufflinks-gene-6.4', 'gene'): 1\n",
      "('maker-4-est_gff_Cufflinks-gene-6.5', 'gene'): 1\n",
      "('maker-4-est_gff_Cufflinks-gene-6.6', 'gene'): 1\n",
      "('maker-4-est_gff_Cufflinks-gene-6.7', 'gene'): 1\n",
      "('maker-4-est_gff_Cufflinks-gene-7.0', 'gene'): 1\n",
      "('maker-4-est_gff_Cufflinks-gene-7.1', 'gene'): 1\n",
      "('maker-4-est_gff_Cufflinks-gene-7.2', 'gene'): 1\n",
      "('maker-4-est_gff_Cufflinks-gene-7.3', 'gene'): 1\n",
      "('maker-4-est_gff_Cufflinks-gene-7.4', 'gene'): 1\n",
      "('maker-4-est_gff_Cufflinks-gene-8.0', 'gene'): 1\n",
      "('maker-4-est_gff_Cufflinks-gene-8.1', 'gene'): 1\n",
      "('maker-4-est_gff_Cufflinks-gene-8.2', 'gene'): 1\n",
      "('maker-4-est_gff_Cufflinks-gene-10.0', 'gene'): 1\n",
      "('maker-4-est_gff_Cufflinks-gene-10.1', 'gene'): 1\n",
      "('maker-4-est_gff_Cufflinks-gene-10.2', 'gene'): 1\n",
      "('maker-4-est_gff_Cufflinks-gene-10.3', 'gene'): 1\n",
      "('maker-4-est_gff_Cufflinks-gene-9.0', 'gene'): 1\n",
      "('maker-4-est_gff_Cufflinks-gene-9.1', 'gene'): 1\n",
      "('maker-4-est_gff_Cufflinks-gene-9.2', 'gene'): 1\n",
      "('maker-4-est_gff_Cufflinks-gene-9.3', 'gene'): 1\n",
      "('maker-4-est_gff_Cufflinks-gene-11.0', 'gene'): 1\n",
      "('maker-4-est_gff_Cufflinks-gene-11.1', 'gene'): 1\n",
      "('maker-4-est_gff_Cufflinks-gene-11.2', 'gene'): 1\n",
      "('maker-4-est_gff_Cufflinks-gene-11.3', 'gene'): 1\n",
      "('maker-4-est_gff_Cufflinks-gene-11.4', 'gene'): 1\n",
      "('maker-4-est_gff_Cufflinks-gene-11.5', 'gene'): 1\n",
      "('maker-4-est_gff_Cufflinks-gene-11.6', 'gene'): 1\n",
      "('maker-4-est_gff_Cufflinks-gene-11.7', 'gene'): 1\n",
      "('maker-4-est_gff_Cufflinks-gene-12.0', 'gene'): 1\n",
      "('maker-4-est_gff_Cufflinks-gene-12.1', 'gene'): 1\n",
      "('maker-4-est_gff_Cufflinks-gene-12.2', 'gene'): 1\n",
      "('maker-4-est_gff_Cufflinks-gene-12.3', 'gene'): 1\n",
      "('maker-4-est_gff_Cufflinks-gene-12.4', 'gene'): 1\n",
      "('maker-4-est_gff_Cufflinks-gene-12.5', 'gene'): 1\n",
      "('maker-4-est_gff_Cufflinks-gene-12.6', 'gene'): 1\n",
      "('maker-4-est_gff_Cufflinks-gene-12.7', 'gene'): 1\n"
     ]
    }
   ],
   "source": [
    "# Grouping by (ID, featureKey)\n",
    "d = group_by_id(entry.features)\n",
    "for k, vs in d.items():\n",
    "    print(\"{}: {}\".format(k, len(vs)))"
   ]
  },
  {
   "cell_type": "code",
   "execution_count": null,
   "id": "cd2e27d8",
   "metadata": {},
   "outputs": [],
   "source": []
  },
  {
   "cell_type": "code",
   "execution_count": 23,
   "id": "86dc2133",
   "metadata": {},
   "outputs": [
    {
     "data": {
      "text/plain": [
       "Counter({'mRNA': 1})"
      ]
     },
     "execution_count": 23,
     "metadata": {},
     "output_type": "execute_result"
    }
   ],
   "source": [
    "import collections\n",
    "collections.Counter(f.type for f in entry.features[0].sub_features)"
   ]
  },
  {
   "cell_type": "code",
   "execution_count": 24,
   "id": "ab0b675a",
   "metadata": {},
   "outputs": [
    {
     "data": {
      "text/plain": [
       "Counter({'exon': 5, 'five_prime_UTR': 1, 'CDS': 5, 'three_prime_UTR': 1})"
      ]
     },
     "execution_count": 24,
     "metadata": {},
     "output_type": "execute_result"
    }
   ],
   "source": [
    "collections.Counter(f.type for f in entry.features[0].sub_features[0].sub_features)"
   ]
  },
  {
   "cell_type": "markdown",
   "id": "4ea14920",
   "metadata": {},
   "source": [
    "## Testing translators in `src`"
   ]
  },
  {
   "cell_type": "code",
   "execution_count": 26,
   "id": "0b36af0d",
   "metadata": {},
   "outputs": [],
   "source": [
    "import json\n",
    "import pathlib\n",
    "import sys\n",
    "\n",
    "pwd = pathlib.Path.cwd().parent / \"src\"\n",
    "sys.path.append(str(pwd))\n",
    "from modules import translators\n",
    "\n",
    "paths = [\"../src/modules/gff_column_to_ddbj_qualifier.json\", \"../src/modules/gff_attribute_to_ddbj_qualifier.json\"]\n",
    "paths = [pathlib.Path(p).absolute() for p in paths]"
   ]
  },
  {
   "cell_type": "code",
   "execution_count": 27,
   "id": "11e847c0",
   "metadata": {},
   "outputs": [],
   "source": [
    "qualifier_converter = translators.GFF3AttributesToQualifiers(paths)"
   ]
  },
  {
   "cell_type": "code",
   "execution_count": 28,
   "id": "ec677b63",
   "metadata": {},
   "outputs": [],
   "source": [
    "entry = qualifier_converter.run(entry)"
   ]
  },
  {
   "cell_type": "code",
   "execution_count": 29,
   "id": "e47e9cc0",
   "metadata": {},
   "outputs": [
    {
     "data": {
      "text/plain": [
       "{'note': ['source:maker'],\n",
       " '_AED': ['0.11'],\n",
       " '_eAED': ['0.11'],\n",
       " '_QI': ['30|1|1|1|0|0|5|103|441']}"
      ]
     },
     "execution_count": 29,
     "metadata": {},
     "output_type": "execute_result"
    }
   ],
   "source": [
    "entry.features[-3].sub_features[0].qualifiers"
   ]
  },
  {
   "cell_type": "code",
   "execution_count": 30,
   "id": "84c6d339",
   "metadata": {},
   "outputs": [
    {
     "data": {
      "text/plain": [
       "{'note': ['source:maker'], 'codon_start': ['0']}"
      ]
     },
     "execution_count": 30,
     "metadata": {},
     "output_type": "execute_result"
    }
   ],
   "source": [
    "cds = [f for f in entry.features[0].sub_features[0].sub_features if f.type == \"CDS\"]\n",
    "cds[0].qualifiers"
   ]
  },
  {
   "cell_type": "code",
   "execution_count": 31,
   "id": "c438e569",
   "metadata": {},
   "outputs": [
    {
     "data": {
      "text/plain": [
       "Counter({'exon': 5, 'five_prime_UTR': 1, 'CDS': 5, 'three_prime_UTR': 1})"
      ]
     },
     "execution_count": 31,
     "metadata": {},
     "output_type": "execute_result"
    }
   ],
   "source": [
    "collections.Counter(f.type for f in entry.features[0].sub_features[0].sub_features)"
   ]
  },
  {
   "cell_type": "code",
   "execution_count": 32,
   "id": "fd8e329a",
   "metadata": {},
   "outputs": [],
   "source": [
    "paths = [\"../src/modules/gff_type_to_ddbj_feature.json\"]\n",
    "paths = [pathlib.Path(p).absolute() for p in paths]\n",
    "feature_converter = translators.GFF3TypesToFeatures(paths)"
   ]
  },
  {
   "cell_type": "code",
   "execution_count": 33,
   "id": "b8698bbf",
   "metadata": {},
   "outputs": [],
   "source": [
    "entry = feature_converter.run(entry)"
   ]
  },
  {
   "cell_type": "code",
   "execution_count": 34,
   "id": "fd260a18",
   "metadata": {},
   "outputs": [
    {
     "data": {
      "text/plain": [
       "Counter({'exon': 5, \"5'UTR\": 1, 'CDS': 5, \"3'UTR\": 1})"
      ]
     },
     "execution_count": 34,
     "metadata": {},
     "output_type": "execute_result"
    }
   ],
   "source": [
    "collections.Counter(f.type for f in entry.features[0].sub_features[0].sub_features)"
   ]
  },
  {
   "cell_type": "code",
   "execution_count": 35,
   "id": "46cc0c89",
   "metadata": {},
   "outputs": [
    {
     "data": {
      "text/plain": [
       "list"
      ]
     },
     "execution_count": 35,
     "metadata": {},
     "output_type": "execute_result"
    }
   ],
   "source": [
    "type(entry.features)"
   ]
  },
  {
   "cell_type": "code",
   "execution_count": null,
   "id": "59eddfe9",
   "metadata": {},
   "outputs": [],
   "source": []
  }
 ],
 "metadata": {
  "kernelspec": {
   "display_name": "Python 3 (ipykernel)",
   "language": "python",
   "name": "python3"
  },
  "language_info": {
   "codemirror_mode": {
    "name": "ipython",
    "version": 3
   },
   "file_extension": ".py",
   "mimetype": "text/x-python",
   "name": "python",
   "nbconvert_exporter": "python",
   "pygments_lexer": "ipython3",
   "version": "3.8.10"
  }
 },
 "nbformat": 4,
 "nbformat_minor": 5
}
